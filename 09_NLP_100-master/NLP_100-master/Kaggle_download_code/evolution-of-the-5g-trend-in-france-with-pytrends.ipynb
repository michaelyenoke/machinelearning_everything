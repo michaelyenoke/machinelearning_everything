{
 "cells": [
  {
   "cell_type": "markdown",
   "metadata": {
    "papermill": {
     "duration": 0.015026,
     "end_time": "2020-12-02T16:49:45.670355",
     "exception": false,
     "start_time": "2020-12-02T16:49:45.655329",
     "status": "completed"
    },
    "tags": []
   },
   "source": [
    "# Evolution of the 5G trend in France \n",
    "\n",
    "**While the 5G network in France will be deployed in December 2020 , it may be interesting to analyze the evolution of the population's interest about 5G. For that I will use the Google trends tool via pytrends, in order to relate the number of searches for the terms '5G' and '4G' in the last years/months.**"
   ]
  },
  {
   "cell_type": "markdown",
   "metadata": {
    "papermill": {
     "duration": 0.011592,
     "end_time": "2020-12-02T16:49:45.694340",
     "exception": false,
     "start_time": "2020-12-02T16:49:45.682748",
     "status": "completed"
    },
    "tags": []
   },
   "source": [
    "**Install pytrends**"
   ]
  },
  {
   "cell_type": "code",
   "execution_count": 1,
   "metadata": {
    "_cell_guid": "b1076dfc-b9ad-4769-8c92-a6c4dae69d19",
    "_uuid": "8f2839f25d086af736a60e9eeb907d3b93b6e0e5",
    "execution": {
     "iopub.execute_input": "2020-12-02T16:49:45.724968Z",
     "iopub.status.busy": "2020-12-02T16:49:45.724132Z",
     "iopub.status.idle": "2020-12-02T16:49:56.469662Z",
     "shell.execute_reply": "2020-12-02T16:49:56.470324Z"
    },
    "papermill": {
     "duration": 10.764129,
     "end_time": "2020-12-02T16:49:56.470511",
     "exception": false,
     "start_time": "2020-12-02T16:49:45.706382",
     "status": "completed"
    },
    "tags": []
   },
   "outputs": [
    {
     "name": "stdout",
     "output_type": "stream",
     "text": [
      "Collecting pytrends\r\n",
      "  Downloading pytrends-4.7.3-py3-none-any.whl (14 kB)\r\n",
      "Requirement already satisfied: lxml in /opt/conda/lib/python3.7/site-packages (from pytrends) (4.5.0)\r\n",
      "Requirement already satisfied: pandas>=0.25 in /opt/conda/lib/python3.7/site-packages (from pytrends) (1.1.4)\r\n",
      "Requirement already satisfied: requests in /opt/conda/lib/python3.7/site-packages (from pytrends) (2.23.0)\r\n",
      "Requirement already satisfied: pytz>=2017.2 in /opt/conda/lib/python3.7/site-packages (from pandas>=0.25->pytrends) (2019.3)\r\n",
      "Requirement already satisfied: numpy>=1.15.4 in /opt/conda/lib/python3.7/site-packages (from pandas>=0.25->pytrends) (1.18.5)\r\n",
      "Requirement already satisfied: python-dateutil>=2.7.3 in /opt/conda/lib/python3.7/site-packages (from pandas>=0.25->pytrends) (2.8.1)\r\n",
      "Requirement already satisfied: certifi>=2017.4.17 in /opt/conda/lib/python3.7/site-packages (from requests->pytrends) (2020.11.8)\r\n",
      "Requirement already satisfied: idna<3,>=2.5 in /opt/conda/lib/python3.7/site-packages (from requests->pytrends) (2.9)\r\n",
      "Requirement already satisfied: urllib3!=1.25.0,!=1.25.1,<1.26,>=1.21.1 in /opt/conda/lib/python3.7/site-packages (from requests->pytrends) (1.25.9)\r\n",
      "Requirement already satisfied: chardet<4,>=3.0.2 in /opt/conda/lib/python3.7/site-packages (from requests->pytrends) (3.0.4)\r\n",
      "Requirement already satisfied: six>=1.5 in /opt/conda/lib/python3.7/site-packages (from python-dateutil>=2.7.3->pandas>=0.25->pytrends) (1.14.0)\r\n",
      "Installing collected packages: pytrends\r\n",
      "Successfully installed pytrends-4.7.3\r\n",
      "\u001b[33mWARNING: You are using pip version 20.2.4; however, version 20.3 is available.\r\n",
      "You should consider upgrading via the '/opt/conda/bin/python3.7 -m pip install --upgrade pip' command.\u001b[0m\r\n"
     ]
    }
   ],
   "source": [
    "!pip install pytrends"
   ]
  },
  {
   "cell_type": "markdown",
   "metadata": {
    "papermill": {
     "duration": 0.01532,
     "end_time": "2020-12-02T16:49:56.502058",
     "exception": false,
     "start_time": "2020-12-02T16:49:56.486738",
     "status": "completed"
    },
    "tags": []
   },
   "source": [
    "**Importing libraries**"
   ]
  },
  {
   "cell_type": "code",
   "execution_count": 2,
   "metadata": {
    "_cell_guid": "79c7e3d0-c299-4dcb-8224-4455121ee9b0",
    "_uuid": "d629ff2d2480ee46fbb7e2d37f6b5fab8052498a",
    "execution": {
     "iopub.execute_input": "2020-12-02T16:49:56.539625Z",
     "iopub.status.busy": "2020-12-02T16:49:56.538594Z",
     "iopub.status.idle": "2020-12-02T16:49:56.546778Z",
     "shell.execute_reply": "2020-12-02T16:49:56.546154Z"
    },
    "papermill": {
     "duration": 0.029372,
     "end_time": "2020-12-02T16:49:56.546929",
     "exception": false,
     "start_time": "2020-12-02T16:49:56.517557",
     "status": "completed"
    },
    "tags": []
   },
   "outputs": [],
   "source": [
    "import pandas as pd\n",
    "import matplotlib.pyplot as plt\n",
    "from pytrends.request import TrendReq\n"
   ]
  },
  {
   "cell_type": "markdown",
   "metadata": {
    "papermill": {
     "duration": 0.015449,
     "end_time": "2020-12-02T16:49:56.578271",
     "exception": false,
     "start_time": "2020-12-02T16:49:56.562822",
     "status": "completed"
    },
    "tags": []
   },
   "source": [
    "**Define google search filters**"
   ]
  },
  {
   "cell_type": "code",
   "execution_count": 3,
   "metadata": {
    "execution": {
     "iopub.execute_input": "2020-12-02T16:49:56.616506Z",
     "iopub.status.busy": "2020-12-02T16:49:56.615728Z",
     "iopub.status.idle": "2020-12-02T16:49:57.022925Z",
     "shell.execute_reply": "2020-12-02T16:49:57.022279Z"
    },
    "papermill": {
     "duration": 0.429162,
     "end_time": "2020-12-02T16:49:57.023061",
     "exception": false,
     "start_time": "2020-12-02T16:49:56.593899",
     "status": "completed"
    },
    "tags": []
   },
   "outputs": [],
   "source": [
    "kw_list = ['4G','5G']\n",
    "pytrends = TrendReq(hl='FR',tz=360)\n",
    "pytrends.build_payload(kw_list,cat=0,timeframe='2016-12-14 2020-12-05',geo='FR',gprop='')"
   ]
  },
  {
   "cell_type": "markdown",
   "metadata": {
    "papermill": {
     "duration": 0.01547,
     "end_time": "2020-12-02T16:49:57.054552",
     "exception": false,
     "start_time": "2020-12-02T16:49:57.039082",
     "status": "completed"
    },
    "tags": []
   },
   "source": [
    "**Reading the data**"
   ]
  },
  {
   "cell_type": "code",
   "execution_count": 4,
   "metadata": {
    "execution": {
     "iopub.execute_input": "2020-12-02T16:49:57.094355Z",
     "iopub.status.busy": "2020-12-02T16:49:57.093559Z",
     "iopub.status.idle": "2020-12-02T16:49:57.662450Z",
     "shell.execute_reply": "2020-12-02T16:49:57.661687Z"
    },
    "papermill": {
     "duration": 0.592362,
     "end_time": "2020-12-02T16:49:57.662572",
     "exception": false,
     "start_time": "2020-12-02T16:49:57.070210",
     "status": "completed"
    },
    "tags": []
   },
   "outputs": [
    {
     "data": {
      "text/html": [
       "<div>\n",
       "<style scoped>\n",
       "    .dataframe tbody tr th:only-of-type {\n",
       "        vertical-align: middle;\n",
       "    }\n",
       "\n",
       "    .dataframe tbody tr th {\n",
       "        vertical-align: top;\n",
       "    }\n",
       "\n",
       "    .dataframe thead th {\n",
       "        text-align: right;\n",
       "    }\n",
       "</style>\n",
       "<table border=\"1\" class=\"dataframe\">\n",
       "  <thead>\n",
       "    <tr style=\"text-align: right;\">\n",
       "      <th></th>\n",
       "      <th>4G</th>\n",
       "      <th>5G</th>\n",
       "      <th>isPartial</th>\n",
       "    </tr>\n",
       "    <tr>\n",
       "      <th>date</th>\n",
       "      <th></th>\n",
       "      <th></th>\n",
       "      <th></th>\n",
       "    </tr>\n",
       "  </thead>\n",
       "  <tbody>\n",
       "    <tr>\n",
       "      <th>2016-12-18</th>\n",
       "      <td>59</td>\n",
       "      <td>3</td>\n",
       "      <td>False</td>\n",
       "    </tr>\n",
       "    <tr>\n",
       "      <th>2016-12-25</th>\n",
       "      <td>67</td>\n",
       "      <td>3</td>\n",
       "      <td>False</td>\n",
       "    </tr>\n",
       "    <tr>\n",
       "      <th>2017-01-01</th>\n",
       "      <td>63</td>\n",
       "      <td>3</td>\n",
       "      <td>False</td>\n",
       "    </tr>\n",
       "    <tr>\n",
       "      <th>2017-01-08</th>\n",
       "      <td>53</td>\n",
       "      <td>3</td>\n",
       "      <td>False</td>\n",
       "    </tr>\n",
       "    <tr>\n",
       "      <th>2017-01-15</th>\n",
       "      <td>53</td>\n",
       "      <td>2</td>\n",
       "      <td>False</td>\n",
       "    </tr>\n",
       "    <tr>\n",
       "      <th>...</th>\n",
       "      <td>...</td>\n",
       "      <td>...</td>\n",
       "      <td>...</td>\n",
       "    </tr>\n",
       "    <tr>\n",
       "      <th>2020-11-01</th>\n",
       "      <td>57</td>\n",
       "      <td>64</td>\n",
       "      <td>False</td>\n",
       "    </tr>\n",
       "    <tr>\n",
       "      <th>2020-11-08</th>\n",
       "      <td>59</td>\n",
       "      <td>64</td>\n",
       "      <td>False</td>\n",
       "    </tr>\n",
       "    <tr>\n",
       "      <th>2020-11-15</th>\n",
       "      <td>59</td>\n",
       "      <td>82</td>\n",
       "      <td>False</td>\n",
       "    </tr>\n",
       "    <tr>\n",
       "      <th>2020-11-22</th>\n",
       "      <td>53</td>\n",
       "      <td>76</td>\n",
       "      <td>False</td>\n",
       "    </tr>\n",
       "    <tr>\n",
       "      <th>2020-11-29</th>\n",
       "      <td>56</td>\n",
       "      <td>89</td>\n",
       "      <td>True</td>\n",
       "    </tr>\n",
       "  </tbody>\n",
       "</table>\n",
       "<p>207 rows × 3 columns</p>\n",
       "</div>"
      ],
      "text/plain": [
       "            4G  5G isPartial\n",
       "date                        \n",
       "2016-12-18  59   3     False\n",
       "2016-12-25  67   3     False\n",
       "2017-01-01  63   3     False\n",
       "2017-01-08  53   3     False\n",
       "2017-01-15  53   2     False\n",
       "...         ..  ..       ...\n",
       "2020-11-01  57  64     False\n",
       "2020-11-08  59  64     False\n",
       "2020-11-15  59  82     False\n",
       "2020-11-22  53  76     False\n",
       "2020-11-29  56  89      True\n",
       "\n",
       "[207 rows x 3 columns]"
      ]
     },
     "execution_count": 4,
     "metadata": {},
     "output_type": "execute_result"
    }
   ],
   "source": [
    "df = pytrends.interest_over_time()\n",
    "df"
   ]
  },
  {
   "cell_type": "markdown",
   "metadata": {
    "papermill": {
     "duration": 0.016118,
     "end_time": "2020-12-02T16:49:57.696025",
     "exception": false,
     "start_time": "2020-12-02T16:49:57.679907",
     "status": "completed"
    },
    "tags": []
   },
   "source": [
    "**Cleaning the data**"
   ]
  },
  {
   "cell_type": "code",
   "execution_count": 5,
   "metadata": {
    "execution": {
     "iopub.execute_input": "2020-12-02T16:49:57.743563Z",
     "iopub.status.busy": "2020-12-02T16:49:57.742649Z",
     "iopub.status.idle": "2020-12-02T16:49:57.746371Z",
     "shell.execute_reply": "2020-12-02T16:49:57.746901Z"
    },
    "papermill": {
     "duration": 0.034441,
     "end_time": "2020-12-02T16:49:57.747057",
     "exception": false,
     "start_time": "2020-12-02T16:49:57.712616",
     "status": "completed"
    },
    "tags": []
   },
   "outputs": [
    {
     "data": {
      "text/html": [
       "<div>\n",
       "<style scoped>\n",
       "    .dataframe tbody tr th:only-of-type {\n",
       "        vertical-align: middle;\n",
       "    }\n",
       "\n",
       "    .dataframe tbody tr th {\n",
       "        vertical-align: top;\n",
       "    }\n",
       "\n",
       "    .dataframe thead th {\n",
       "        text-align: right;\n",
       "    }\n",
       "</style>\n",
       "<table border=\"1\" class=\"dataframe\">\n",
       "  <thead>\n",
       "    <tr style=\"text-align: right;\">\n",
       "      <th></th>\n",
       "      <th>4G</th>\n",
       "      <th>5G</th>\n",
       "    </tr>\n",
       "    <tr>\n",
       "      <th>date</th>\n",
       "      <th></th>\n",
       "      <th></th>\n",
       "    </tr>\n",
       "  </thead>\n",
       "  <tbody>\n",
       "    <tr>\n",
       "      <th>2016-12-18</th>\n",
       "      <td>59</td>\n",
       "      <td>3</td>\n",
       "    </tr>\n",
       "    <tr>\n",
       "      <th>2016-12-25</th>\n",
       "      <td>67</td>\n",
       "      <td>3</td>\n",
       "    </tr>\n",
       "    <tr>\n",
       "      <th>2017-01-01</th>\n",
       "      <td>63</td>\n",
       "      <td>3</td>\n",
       "    </tr>\n",
       "    <tr>\n",
       "      <th>2017-01-08</th>\n",
       "      <td>53</td>\n",
       "      <td>3</td>\n",
       "    </tr>\n",
       "    <tr>\n",
       "      <th>2017-01-15</th>\n",
       "      <td>53</td>\n",
       "      <td>2</td>\n",
       "    </tr>\n",
       "    <tr>\n",
       "      <th>...</th>\n",
       "      <td>...</td>\n",
       "      <td>...</td>\n",
       "    </tr>\n",
       "    <tr>\n",
       "      <th>2020-11-01</th>\n",
       "      <td>57</td>\n",
       "      <td>64</td>\n",
       "    </tr>\n",
       "    <tr>\n",
       "      <th>2020-11-08</th>\n",
       "      <td>59</td>\n",
       "      <td>64</td>\n",
       "    </tr>\n",
       "    <tr>\n",
       "      <th>2020-11-15</th>\n",
       "      <td>59</td>\n",
       "      <td>82</td>\n",
       "    </tr>\n",
       "    <tr>\n",
       "      <th>2020-11-22</th>\n",
       "      <td>53</td>\n",
       "      <td>76</td>\n",
       "    </tr>\n",
       "    <tr>\n",
       "      <th>2020-11-29</th>\n",
       "      <td>56</td>\n",
       "      <td>89</td>\n",
       "    </tr>\n",
       "  </tbody>\n",
       "</table>\n",
       "<p>207 rows × 2 columns</p>\n",
       "</div>"
      ],
      "text/plain": [
       "            4G  5G\n",
       "date              \n",
       "2016-12-18  59   3\n",
       "2016-12-25  67   3\n",
       "2017-01-01  63   3\n",
       "2017-01-08  53   3\n",
       "2017-01-15  53   2\n",
       "...         ..  ..\n",
       "2020-11-01  57  64\n",
       "2020-11-08  59  64\n",
       "2020-11-15  59  82\n",
       "2020-11-22  53  76\n",
       "2020-11-29  56  89\n",
       "\n",
       "[207 rows x 2 columns]"
      ]
     },
     "execution_count": 5,
     "metadata": {},
     "output_type": "execute_result"
    }
   ],
   "source": [
    "df = df.drop('isPartial',axis=1)\n",
    "df"
   ]
  },
  {
   "cell_type": "markdown",
   "metadata": {
    "papermill": {
     "duration": 0.017091,
     "end_time": "2020-12-02T16:49:57.784411",
     "exception": false,
     "start_time": "2020-12-02T16:49:57.767320",
     "status": "completed"
    },
    "tags": []
   },
   "source": [
    "**Visualize the data** "
   ]
  },
  {
   "cell_type": "code",
   "execution_count": 6,
   "metadata": {
    "execution": {
     "iopub.execute_input": "2020-12-02T16:49:57.825679Z",
     "iopub.status.busy": "2020-12-02T16:49:57.824914Z",
     "iopub.status.idle": "2020-12-02T16:49:58.110889Z",
     "shell.execute_reply": "2020-12-02T16:49:58.110158Z"
    },
    "papermill": {
     "duration": 0.30927,
     "end_time": "2020-12-02T16:49:58.111009",
     "exception": false,
     "start_time": "2020-12-02T16:49:57.801739",
     "status": "completed"
    },
    "tags": []
   },
   "outputs": [
    {
     "data": {
      "image/png": "[encoded data removed]",
      "text/plain": [
       "<Figure size 432x288 with 1 Axes>"
      ]
     },
     "metadata": {
      "needs_background": "light"
     },
     "output_type": "display_data"
    }
   ],
   "source": [
    "plt.plot(df)\n",
    "plt.xlabel('Date')\n",
    "plt.ylabel('Search rate')\n",
    "plt.title('4G and 5G Google searches in France through time')\n",
    "plt.legend(df)\n",
    "plt.show()"
   ]
  },
  {
   "cell_type": "markdown",
   "metadata": {
    "papermill": {
     "duration": 0.01845,
     "end_time": "2020-12-02T16:49:58.148354",
     "exception": false,
     "start_time": "2020-12-02T16:49:58.129904",
     "status": "completed"
    },
    "tags": []
   },
   "source": [
    "**Thanks to this plot, we can see that the 5G research trend is accelerating from the beginning of the year 2019 until today. We will therefore focus on this period.**"
   ]
  },
  {
   "cell_type": "code",
   "execution_count": 7,
   "metadata": {
    "execution": {
     "iopub.execute_input": "2020-12-02T16:49:58.198489Z",
     "iopub.status.busy": "2020-12-02T16:49:58.197606Z",
     "iopub.status.idle": "2020-12-02T16:49:58.482103Z",
     "shell.execute_reply": "2020-12-02T16:49:58.481459Z"
    },
    "papermill": {
     "duration": 0.314916,
     "end_time": "2020-12-02T16:49:58.482231",
     "exception": false,
     "start_time": "2020-12-02T16:49:58.167315",
     "status": "completed"
    },
    "tags": []
   },
   "outputs": [
    {
     "data": {
      "text/plain": [
       "Text(0.5, 1.0, '4G and 5G Google searches in France through time')"
      ]
     },
     "execution_count": 7,
     "metadata": {},
     "output_type": "execute_result"
    },
    {
     "data": {
      "image/png": "[encoded data removed]",
      "text/plain": [
       "<Figure size 432x288 with 1 Axes>"
      ]
     },
     "metadata": {
      "needs_background": "light"
     },
     "output_type": "display_data"
    }
   ],
   "source": [
    "focus = df.loc['2018-07-15':].plot()\n",
    "plt.xlabel('Date')\n",
    "plt.ylabel('Search rate')\n",
    "plt.title('4G and 5G Google searches in France through time')"
   ]
  },
  {
   "cell_type": "markdown",
   "metadata": {
    "papermill": {
     "duration": 0.020688,
     "end_time": "2020-12-02T16:49:58.524078",
     "exception": false,
     "start_time": "2020-12-02T16:49:58.503390",
     "status": "completed"
    },
    "tags": []
   },
   "source": [
    "**Before analyzing this plot, let's explain how does Google trends work. The number of searches for a keyword associated with a date corresponds to the rate of use of this keyword compared to the rate of use of this same keyword during the period when it is most used (= value of 100). In other words in our example: the keyword '5G' in July 2019 (= value of 20) was used five times less than in December 2020 (= value of 100)**\n",
    "\n",
    "**Now, in order to analyze this plot, we are going to isolate three distinct periods during which we can observe a significant increase in google searches :**\n",
    "\n",
    "**-The month of February 2019 marks the start of the growth of the 5G trend in France. Indeed, it was during this period that the first 5G deployment schedule was published. In addition, the Mobile World Congress, which took place at the same time, was marked by the Orange communication (the leader of telecommunications operators in France) almost entirely devoted to 5G. It is therefore natural that the media began to discuss 5G, wondering in particular about its impact on our daily lives.**\n",
    "\n",
    "**-Then, it was during the month of April 2020 that the four main French operators (Orange, SFR, Bouygues, Free) obtained official authorization to open a 5G network in France.**\n",
    "\n",
    "**-Finally, it is in October 2020 that the 5G trend increases a lot until it takes over the 4G trend. Indeed, the 5G frequency auctions were conducted during this period. After, the number of searches continues to increase and should not stop for several months.**"
   ]
  },
  {
   "cell_type": "code",
   "execution_count": null,
   "metadata": {
    "papermill": {
     "duration": 0.020455,
     "end_time": "2020-12-02T16:49:58.565360",
     "exception": false,
     "start_time": "2020-12-02T16:49:58.544905",
     "status": "completed"
    },
    "tags": []
   },
   "outputs": [],
   "source": []
  }
 ],
 "metadata": {
  "kernelspec": {
   "display_name": "Python 3",
   "language": "python",
   "name": "python3"
  },
  "language_info": {
   "codemirror_mode": {
    "name": "ipython",
    "version": 3
   },
   "file_extension": ".py",
   "mimetype": "text/x-python",
   "name": "python",
   "nbconvert_exporter": "python",
   "pygments_lexer": "ipython3",
   "version": "3.7.6"
  },
  "papermill": {
   "duration": 18.917083,
   "end_time": "2020-12-02T16:49:59.679701",
   "environment_variables": {},
   "exception": null,
   "input_path": "__notebook__.ipynb",
   "output_path": "__notebook__.ipynb",
   "parameters": {},
   "start_time": "2020-12-02T16:49:40.762618",
   "version": "2.1.0"
  }
 },
 "nbformat": 4,
 "nbformat_minor": 4
}
