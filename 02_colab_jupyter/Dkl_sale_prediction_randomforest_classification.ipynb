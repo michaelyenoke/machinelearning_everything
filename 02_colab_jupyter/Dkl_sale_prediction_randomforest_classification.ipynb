{
  "nbformat": 4,
  "nbformat_minor": 0,
  "metadata": {
    "colab": {
      "name": "Dkl_sale_prediction.ipynb",
      "provenance": []
    },
    "kernelspec": {
      "name": "python3",
      "display_name": "Python 3"
    }
  },
  "cells": [
    {
      "cell_type": "code",
      "metadata": {
        "id": "6NWYraLNCX96"
      },
      "source": [
        "# Code you have previously used to load data\n",
        "import pandas as pd\n",
        "from sklearn.metrics import mean_absolute_error\n",
        "from sklearn.model_selection import train_test_split\n",
        "from sklearn.tree import DecisionTreeRegressor"
      ],
      "execution_count": null,
      "outputs": []
    },
    {
      "cell_type": "code",
      "metadata": {
        "id": "hzfBs1AcDFoR"
      },
      "source": [
        "# Path of the file to read\n",
        "sales_file_path = '/dkl_product_sales_data.csv'\n",
        "\n",
        "sales_data = pd.read_csv(sales_file_path)\n",
        "# Create target object and call it y\n",
        "print(sales_data.head())\n",
        "y = sales_data.sales_n\n",
        "# Create X\n",
        "features = ['temp_n', 'rainfall_n', 'bb_trend_n1', 'nba_trend_n1', 'hbl_trend_n1', 'temp_n1', 'rainfall_n1', 'bb_trend_n2', 'nba_trend_n2', 'hbl_trend_n2', 'temp_n2', 'rainfall_n2']\n",
        "X = sales_data[features]\n",
        "\n"
      ],
      "execution_count": null,
      "outputs": []
    },
    {
      "cell_type": "code",
      "metadata": {
        "id": "unGR1DbQE30C"
      },
      "source": [
        "# Split into validation and training data\n",
        "train_X, val_X, train_y, val_y = train_test_split(X, y, random_state=1)\n"
      ],
      "execution_count": null,
      "outputs": []
    },
    {
      "cell_type": "code",
      "metadata": {
        "colab": {
          "base_uri": "https://localhost:8080/"
        },
        "id": "8OlTv99FFC6H",
        "outputId": "f0dca55b-ca3f-4cf1-edb9-01e76b026f1c"
      },
      "source": [
        "from sklearn.ensemble import RandomForestClassifier \n",
        "\n",
        "# Define the model. Set random_state to 1\n",
        "rf_model = RandomForestClassifier(n_estimators = 5000)  \n",
        "\n",
        "# fit your model\n",
        "rf_model.fit(train_X, train_y)\n",
        "\n",
        "rf_y_pred = rf_model.predict(val_X) \n",
        "\n",
        "# metrics are used to find accuracy or error \n",
        "from sklearn import metrics   \n",
        "print() \n",
        "  \n",
        "# using metrics module for accuracy calculation \n",
        "print(\"ACCURACY OF THE MODEL: \", metrics.accuracy_score(val_y, rf_y_pred)) \n",
        "\n",
        "\n",
        "\n"
      ],
      "execution_count": null,
      "outputs": [
        {
          "output_type": "stream",
          "text": [
            "\n",
            "ACCURACY OF THE MODEL:  0.8518518518518519\n"
          ],
          "name": "stdout"
        }
      ]
    },
    {
      "cell_type": "code",
      "metadata": {
        "id": "Xp4AduCCMGLl"
      },
      "source": [
        ""
      ],
      "execution_count": null,
      "outputs": []
    },
    {
      "cell_type": "code",
      "metadata": {
        "colab": {
          "base_uri": "https://localhost:8080/"
        },
        "id": "G5GeuQhyL0uL",
        "outputId": "004aaca2-6744-442b-b611-0244b97a0a21"
      },
      "source": [
        "from sklearn import metrics\n",
        "fpr, tpr, thresholds = metrics.roc_curve(val_y, rf_val_predictions, pos_label=2)\n",
        "metrics.auc(fpr, tpr)"
      ],
      "execution_count": null,
      "outputs": [
        {
          "output_type": "stream",
          "text": [
            "/usr/local/lib/python3.6/dist-packages/sklearn/metrics/_ranking.py:808: UndefinedMetricWarning: No positive samples in y_true, true positive value should be meaningless\n",
            "  UndefinedMetricWarning)\n"
          ],
          "name": "stderr"
        },
        {
          "output_type": "execute_result",
          "data": {
            "text/plain": [
              "nan"
            ]
          },
          "metadata": {
            "tags": []
          },
          "execution_count": 17
        }
      ]
    },
    {
      "cell_type": "code",
      "metadata": {
        "colab": {
          "base_uri": "https://localhost:8080/",
          "height": 238
        },
        "id": "szETlrqUHVoF",
        "outputId": "bb8be6f2-58c3-44c6-8f63-eda9dc3ffe77"
      },
      "source": [
        "from xgboost import XGBClassifier \n",
        "\n",
        "my_model = XGBClassifier ()\n",
        "my_model.fit(train_X, train_y)\n",
        "my_model_pred = my_model.predict(val_x)\n",
        "\n",
        "\n",
        "# metrics are used to find accuracy or error \n",
        "from sklearn import metrics   \n",
        "print() \n",
        "  \n",
        "# using metrics module for accuracy calculation \n",
        "print(\"ACCURACY OF THE MODEL: \", metrics.accuracy_score(val_y, my_model_pred)) \n",
        "\n",
        "print(val_y)\n",
        "print(rf_y_pred)"
      ],
      "execution_count": null,
      "outputs": [
        {
          "output_type": "error",
          "ename": "NameError",
          "evalue": "ignored",
          "traceback": [
            "\u001b[0;31m---------------------------------------------------------------------------\u001b[0m",
            "\u001b[0;31mNameError\u001b[0m                                 Traceback (most recent call last)",
            "\u001b[0;32m<ipython-input-28-21c1d785417a>\u001b[0m in \u001b[0;36m<module>\u001b[0;34m()\u001b[0m\n\u001b[1;32m      3\u001b[0m \u001b[0mmy_model\u001b[0m \u001b[0;34m=\u001b[0m \u001b[0mXGBClassifier\u001b[0m \u001b[0;34m(\u001b[0m\u001b[0;34m)\u001b[0m\u001b[0;34m\u001b[0m\u001b[0;34m\u001b[0m\u001b[0m\n\u001b[1;32m      4\u001b[0m \u001b[0mmy_model\u001b[0m\u001b[0;34m.\u001b[0m\u001b[0mfit\u001b[0m\u001b[0;34m(\u001b[0m\u001b[0mtrain_X\u001b[0m\u001b[0;34m,\u001b[0m \u001b[0mtrain_y\u001b[0m\u001b[0;34m)\u001b[0m\u001b[0;34m\u001b[0m\u001b[0;34m\u001b[0m\u001b[0m\n\u001b[0;32m----> 5\u001b[0;31m \u001b[0mmy_model_pred\u001b[0m \u001b[0;34m=\u001b[0m \u001b[0mmy_model\u001b[0m\u001b[0;34m.\u001b[0m\u001b[0mpredict\u001b[0m\u001b[0;34m(\u001b[0m\u001b[0mval_x\u001b[0m\u001b[0;34m)\u001b[0m\u001b[0;34m\u001b[0m\u001b[0;34m\u001b[0m\u001b[0m\n\u001b[0m\u001b[1;32m      6\u001b[0m \u001b[0;34m\u001b[0m\u001b[0m\n\u001b[1;32m      7\u001b[0m \u001b[0;34m\u001b[0m\u001b[0m\n",
            "\u001b[0;31mNameError\u001b[0m: name 'val_x' is not defined"
          ]
        }
      ]
    }
  ]
}