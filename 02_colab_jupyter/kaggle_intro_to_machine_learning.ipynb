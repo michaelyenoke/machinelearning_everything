{
  "nbformat": 4,
  "nbformat_minor": 0,
  "metadata": {
    "colab": {
      "name": "kaggle_intro_to_machine_learning",
      "provenance": [],
      "toc_visible": true
    },
    "kernelspec": {
      "name": "python3",
      "display_name": "Python 3"
    }
  },
  "cells": [
    {
      "cell_type": "markdown",
      "metadata": {
        "id": "VWQAwfYiCnNM"
      },
      "source": [
        "## https://www.kaggle.com/learn/intro-to-machine-learning\n",
        "\n",
        "#### [Housing Prices Competition for Kaggle Learn Users](https://www.kaggle.com/c/home-data-for-ml-course/overview)\n",
        "\n",
        "https://www.kaggle.com/michaelchen0919/exercise-machine-learning-competitions/edit"
      ]
    },
    {
      "cell_type": "markdown",
      "metadata": {
        "id": "fk3w6CWldkMg"
      },
      "source": [
        "https://codertw.com/%E7%A8%8B%E5%BC%8F%E8%AA%9E%E8%A8%80/557816/\n",
        "\n",
        "epoch, batchsize, iteration\n",
        "\n",
        "https://codertw.com/%E7%A8%8B%E5%BC%8F%E8%AA%9E%E8%A8%80/557816/\n",
        "\n",
        "example:有一個2000個訓練樣本的資料集。將2000個樣本分成大小為500的batch,那麼完成一個epoch需要4個iteration。"
      ]
    },
    {
      "cell_type": "markdown",
      "metadata": {
        "id": "aVZ08wUMObTn"
      },
      "source": [
        "# Decision Tree"
      ]
    },
    {
      "cell_type": "markdown",
      "metadata": {
        "id": "4O6fVx2GOtbj"
      },
      "source": [
        "### Case One"
      ]
    },
    {
      "cell_type": "code",
      "metadata": {
        "id": "RId5YrAJ_8rC"
      },
      "source": [
        "import pandas as pd"
      ],
      "execution_count": null,
      "outputs": []
    },
    {
      "cell_type": "code",
      "metadata": {
        "id": "vKtseKikADiF"
      },
      "source": [
        "# 為路徑賦值\n",
        "melbourne_file_path = '/content/drive/My Drive/Colab Notebooks/melb_data.csv'"
      ],
      "execution_count": null,
      "outputs": []
    },
    {
      "cell_type": "code",
      "metadata": {
        "id": "9k2HXBtTAE1A"
      },
      "source": [
        "melbourne_data = pd.read_csv(melbourne_file_path) "
      ],
      "execution_count": null,
      "outputs": []
    },
    {
      "cell_type": "code",
      "metadata": {
        "id": "2DCXWBTbAh2x",
        "colab": {
          "base_uri": "https://localhost:8080/"
        },
        "outputId": "011a23d5-6738-4f5c-d991-cd303cfb5564"
      },
      "source": [
        "# print(melbourne_data)"
      ],
      "execution_count": null,
      "outputs": [
        {
          "output_type": "stream",
          "text": [
            "              Suburb  ... Propertycount\n",
            "0         Abbotsford  ...        4019.0\n",
            "1         Abbotsford  ...        4019.0\n",
            "2         Abbotsford  ...        4019.0\n",
            "3         Abbotsford  ...        4019.0\n",
            "4         Abbotsford  ...        4019.0\n",
            "...              ...  ...           ...\n",
            "13575  Wheelers Hill  ...        7392.0\n",
            "13576   Williamstown  ...        6380.0\n",
            "13577   Williamstown  ...        6380.0\n",
            "13578   Williamstown  ...        6380.0\n",
            "13579     Yarraville  ...        6543.0\n",
            "\n",
            "[13580 rows x 21 columns]\n"
          ],
          "name": "stdout"
        }
      ]
    },
    {
      "cell_type": "code",
      "metadata": {
        "id": "2Yb6RpF1AkDD",
        "colab": {
          "base_uri": "https://localhost:8080/",
          "height": 317
        },
        "outputId": "c7473e82-bb9c-445c-f468-7678d913e78c"
      },
      "source": [
        "# 呈現出數據的大概\n",
        "melbourne_data.describe()"
      ],
      "execution_count": null,
      "outputs": [
        {
          "output_type": "execute_result",
          "data": {
            "text/html": [
              "<div>\n",
              "<style scoped>\n",
              "    .dataframe tbody tr th:only-of-type {\n",
              "        vertical-align: middle;\n",
              "    }\n",
              "\n",
              "    .dataframe tbody tr th {\n",
              "        vertical-align: top;\n",
              "    }\n",
              "\n",
              "    .dataframe thead th {\n",
              "        text-align: right;\n",
              "    }\n",
              "</style>\n",
              "<table border=\"1\" class=\"dataframe\">\n",
              "  <thead>\n",
              "    <tr style=\"text-align: right;\">\n",
              "      <th></th>\n",
              "      <th>Rooms</th>\n",
              "      <th>Price</th>\n",
              "      <th>Distance</th>\n",
              "      <th>Postcode</th>\n",
              "      <th>Bedroom2</th>\n",
              "      <th>Bathroom</th>\n",
              "      <th>Car</th>\n",
              "      <th>Landsize</th>\n",
              "      <th>BuildingArea</th>\n",
              "      <th>YearBuilt</th>\n",
              "      <th>Lattitude</th>\n",
              "      <th>Longtitude</th>\n",
              "      <th>Propertycount</th>\n",
              "    </tr>\n",
              "  </thead>\n",
              "  <tbody>\n",
              "    <tr>\n",
              "      <th>count</th>\n",
              "      <td>13580.000000</td>\n",
              "      <td>1.358000e+04</td>\n",
              "      <td>13580.000000</td>\n",
              "      <td>13580.000000</td>\n",
              "      <td>13580.000000</td>\n",
              "      <td>13580.000000</td>\n",
              "      <td>13518.000000</td>\n",
              "      <td>13580.000000</td>\n",
              "      <td>7130.000000</td>\n",
              "      <td>8205.000000</td>\n",
              "      <td>13580.000000</td>\n",
              "      <td>13580.000000</td>\n",
              "      <td>13580.000000</td>\n",
              "    </tr>\n",
              "    <tr>\n",
              "      <th>mean</th>\n",
              "      <td>2.937997</td>\n",
              "      <td>1.075684e+06</td>\n",
              "      <td>10.137776</td>\n",
              "      <td>3105.301915</td>\n",
              "      <td>2.914728</td>\n",
              "      <td>1.534242</td>\n",
              "      <td>1.610075</td>\n",
              "      <td>558.416127</td>\n",
              "      <td>151.967650</td>\n",
              "      <td>1964.684217</td>\n",
              "      <td>-37.809203</td>\n",
              "      <td>144.995216</td>\n",
              "      <td>7454.417378</td>\n",
              "    </tr>\n",
              "    <tr>\n",
              "      <th>std</th>\n",
              "      <td>0.955748</td>\n",
              "      <td>6.393107e+05</td>\n",
              "      <td>5.868725</td>\n",
              "      <td>90.676964</td>\n",
              "      <td>0.965921</td>\n",
              "      <td>0.691712</td>\n",
              "      <td>0.962634</td>\n",
              "      <td>3990.669241</td>\n",
              "      <td>541.014538</td>\n",
              "      <td>37.273762</td>\n",
              "      <td>0.079260</td>\n",
              "      <td>0.103916</td>\n",
              "      <td>4378.581772</td>\n",
              "    </tr>\n",
              "    <tr>\n",
              "      <th>min</th>\n",
              "      <td>1.000000</td>\n",
              "      <td>8.500000e+04</td>\n",
              "      <td>0.000000</td>\n",
              "      <td>3000.000000</td>\n",
              "      <td>0.000000</td>\n",
              "      <td>0.000000</td>\n",
              "      <td>0.000000</td>\n",
              "      <td>0.000000</td>\n",
              "      <td>0.000000</td>\n",
              "      <td>1196.000000</td>\n",
              "      <td>-38.182550</td>\n",
              "      <td>144.431810</td>\n",
              "      <td>249.000000</td>\n",
              "    </tr>\n",
              "    <tr>\n",
              "      <th>25%</th>\n",
              "      <td>2.000000</td>\n",
              "      <td>6.500000e+05</td>\n",
              "      <td>6.100000</td>\n",
              "      <td>3044.000000</td>\n",
              "      <td>2.000000</td>\n",
              "      <td>1.000000</td>\n",
              "      <td>1.000000</td>\n",
              "      <td>177.000000</td>\n",
              "      <td>93.000000</td>\n",
              "      <td>1940.000000</td>\n",
              "      <td>-37.856822</td>\n",
              "      <td>144.929600</td>\n",
              "      <td>4380.000000</td>\n",
              "    </tr>\n",
              "    <tr>\n",
              "      <th>50%</th>\n",
              "      <td>3.000000</td>\n",
              "      <td>9.030000e+05</td>\n",
              "      <td>9.200000</td>\n",
              "      <td>3084.000000</td>\n",
              "      <td>3.000000</td>\n",
              "      <td>1.000000</td>\n",
              "      <td>2.000000</td>\n",
              "      <td>440.000000</td>\n",
              "      <td>126.000000</td>\n",
              "      <td>1970.000000</td>\n",
              "      <td>-37.802355</td>\n",
              "      <td>145.000100</td>\n",
              "      <td>6555.000000</td>\n",
              "    </tr>\n",
              "    <tr>\n",
              "      <th>75%</th>\n",
              "      <td>3.000000</td>\n",
              "      <td>1.330000e+06</td>\n",
              "      <td>13.000000</td>\n",
              "      <td>3148.000000</td>\n",
              "      <td>3.000000</td>\n",
              "      <td>2.000000</td>\n",
              "      <td>2.000000</td>\n",
              "      <td>651.000000</td>\n",
              "      <td>174.000000</td>\n",
              "      <td>1999.000000</td>\n",
              "      <td>-37.756400</td>\n",
              "      <td>145.058305</td>\n",
              "      <td>10331.000000</td>\n",
              "    </tr>\n",
              "    <tr>\n",
              "      <th>max</th>\n",
              "      <td>10.000000</td>\n",
              "      <td>9.000000e+06</td>\n",
              "      <td>48.100000</td>\n",
              "      <td>3977.000000</td>\n",
              "      <td>20.000000</td>\n",
              "      <td>8.000000</td>\n",
              "      <td>10.000000</td>\n",
              "      <td>433014.000000</td>\n",
              "      <td>44515.000000</td>\n",
              "      <td>2018.000000</td>\n",
              "      <td>-37.408530</td>\n",
              "      <td>145.526350</td>\n",
              "      <td>21650.000000</td>\n",
              "    </tr>\n",
              "  </tbody>\n",
              "</table>\n",
              "</div>"
            ],
            "text/plain": [
              "              Rooms         Price  ...    Longtitude  Propertycount\n",
              "count  13580.000000  1.358000e+04  ...  13580.000000   13580.000000\n",
              "mean       2.937997  1.075684e+06  ...    144.995216    7454.417378\n",
              "std        0.955748  6.393107e+05  ...      0.103916    4378.581772\n",
              "min        1.000000  8.500000e+04  ...    144.431810     249.000000\n",
              "25%        2.000000  6.500000e+05  ...    144.929600    4380.000000\n",
              "50%        3.000000  9.030000e+05  ...    145.000100    6555.000000\n",
              "75%        3.000000  1.330000e+06  ...    145.058305   10331.000000\n",
              "max       10.000000  9.000000e+06  ...    145.526350   21650.000000\n",
              "\n",
              "[8 rows x 13 columns]"
            ]
          },
          "metadata": {
            "tags": []
          },
          "execution_count": 12
        }
      ]
    },
    {
      "cell_type": "code",
      "metadata": {
        "id": "KXOdZWp0AnNx",
        "colab": {
          "base_uri": "https://localhost:8080/"
        },
        "outputId": "3dfcca71-479b-4edd-d049-5500aea5d11e"
      },
      "source": [
        "#列出所有欄位判斷哪些欄位會影響判斷\n",
        "melbourne_data.columns"
      ],
      "execution_count": null,
      "outputs": [
        {
          "output_type": "execute_result",
          "data": {
            "text/plain": [
              "Index(['Suburb', 'Address', 'Rooms', 'Type', 'Price', 'Method', 'SellerG',\n",
              "       'Date', 'Distance', 'Postcode', 'Bedroom2', 'Bathroom', 'Car',\n",
              "       'Landsize', 'BuildingArea', 'YearBuilt', 'CouncilArea', 'Lattitude',\n",
              "       'Longtitude', 'Regionname', 'Propertycount'],\n",
              "      dtype='object')"
            ]
          },
          "metadata": {
            "tags": []
          },
          "execution_count": 13
        }
      ]
    },
    {
      "cell_type": "code",
      "metadata": {
        "id": "JY27As-FA8MG"
      },
      "source": [
        "# dropna drops missing values (think of na as \"not available\")\n",
        "# 去掉NA ---> 背後還有很多問題\n",
        "melbourne_data = melbourne_data.dropna(axis=0)"
      ],
      "execution_count": null,
      "outputs": []
    },
    {
      "cell_type": "code",
      "metadata": {
        "id": "2BcVGpn0BBds"
      },
      "source": [
        "# 將要送入 x, y 裡面跑得 y 決定在 Price 這個欄位 ---> 但斷那個欄位是有影響可以作為 y 的\n",
        "y = melbourne_data.Price"
      ],
      "execution_count": null,
      "outputs": []
    },
    {
      "cell_type": "code",
      "metadata": {
        "id": "ou0n2R4-BD9s"
      },
      "source": [
        "# 先列出欄位作為 x 的欄位 ---> 自己選擇可以作為特徵的欄位 ---> 哪些因素會影響價格？\n",
        "melbourne_features = ['Rooms', 'Bathroom', 'Landsize', 'Lattitude', 'Longtitude']"
      ],
      "execution_count": null,
      "outputs": []
    },
    {
      "cell_type": "code",
      "metadata": {
        "id": "6ie6THWNBF8b"
      },
      "source": [
        "# 將欄位挑選出來\n",
        "X = melbourne_data[melbourne_features]"
      ],
      "execution_count": null,
      "outputs": []
    },
    {
      "cell_type": "code",
      "metadata": {
        "id": "7rhWyvc4BISH",
        "colab": {
          "base_uri": "https://localhost:8080/",
          "height": 297
        },
        "outputId": "543c59cc-6956-4fc7-8fc8-d99ab1248817"
      },
      "source": [
        "X.describe()"
      ],
      "execution_count": null,
      "outputs": [
        {
          "output_type": "execute_result",
          "data": {
            "text/html": [
              "<div>\n",
              "<style scoped>\n",
              "    .dataframe tbody tr th:only-of-type {\n",
              "        vertical-align: middle;\n",
              "    }\n",
              "\n",
              "    .dataframe tbody tr th {\n",
              "        vertical-align: top;\n",
              "    }\n",
              "\n",
              "    .dataframe thead th {\n",
              "        text-align: right;\n",
              "    }\n",
              "</style>\n",
              "<table border=\"1\" class=\"dataframe\">\n",
              "  <thead>\n",
              "    <tr style=\"text-align: right;\">\n",
              "      <th></th>\n",
              "      <th>Rooms</th>\n",
              "      <th>Bathroom</th>\n",
              "      <th>Landsize</th>\n",
              "      <th>Lattitude</th>\n",
              "      <th>Longtitude</th>\n",
              "    </tr>\n",
              "  </thead>\n",
              "  <tbody>\n",
              "    <tr>\n",
              "      <th>count</th>\n",
              "      <td>6196.000000</td>\n",
              "      <td>6196.000000</td>\n",
              "      <td>6196.000000</td>\n",
              "      <td>6196.000000</td>\n",
              "      <td>6196.000000</td>\n",
              "    </tr>\n",
              "    <tr>\n",
              "      <th>mean</th>\n",
              "      <td>2.931407</td>\n",
              "      <td>1.576340</td>\n",
              "      <td>471.006940</td>\n",
              "      <td>-37.807904</td>\n",
              "      <td>144.990201</td>\n",
              "    </tr>\n",
              "    <tr>\n",
              "      <th>std</th>\n",
              "      <td>0.971079</td>\n",
              "      <td>0.711362</td>\n",
              "      <td>897.449881</td>\n",
              "      <td>0.075850</td>\n",
              "      <td>0.099165</td>\n",
              "    </tr>\n",
              "    <tr>\n",
              "      <th>min</th>\n",
              "      <td>1.000000</td>\n",
              "      <td>1.000000</td>\n",
              "      <td>0.000000</td>\n",
              "      <td>-38.164920</td>\n",
              "      <td>144.542370</td>\n",
              "    </tr>\n",
              "    <tr>\n",
              "      <th>25%</th>\n",
              "      <td>2.000000</td>\n",
              "      <td>1.000000</td>\n",
              "      <td>152.000000</td>\n",
              "      <td>-37.855438</td>\n",
              "      <td>144.926198</td>\n",
              "    </tr>\n",
              "    <tr>\n",
              "      <th>50%</th>\n",
              "      <td>3.000000</td>\n",
              "      <td>1.000000</td>\n",
              "      <td>373.000000</td>\n",
              "      <td>-37.802250</td>\n",
              "      <td>144.995800</td>\n",
              "    </tr>\n",
              "    <tr>\n",
              "      <th>75%</th>\n",
              "      <td>4.000000</td>\n",
              "      <td>2.000000</td>\n",
              "      <td>628.000000</td>\n",
              "      <td>-37.758200</td>\n",
              "      <td>145.052700</td>\n",
              "    </tr>\n",
              "    <tr>\n",
              "      <th>max</th>\n",
              "      <td>8.000000</td>\n",
              "      <td>8.000000</td>\n",
              "      <td>37000.000000</td>\n",
              "      <td>-37.457090</td>\n",
              "      <td>145.526350</td>\n",
              "    </tr>\n",
              "  </tbody>\n",
              "</table>\n",
              "</div>"
            ],
            "text/plain": [
              "             Rooms     Bathroom      Landsize    Lattitude   Longtitude\n",
              "count  6196.000000  6196.000000   6196.000000  6196.000000  6196.000000\n",
              "mean      2.931407     1.576340    471.006940   -37.807904   144.990201\n",
              "std       0.971079     0.711362    897.449881     0.075850     0.099165\n",
              "min       1.000000     1.000000      0.000000   -38.164920   144.542370\n",
              "25%       2.000000     1.000000    152.000000   -37.855438   144.926198\n",
              "50%       3.000000     1.000000    373.000000   -37.802250   144.995800\n",
              "75%       4.000000     2.000000    628.000000   -37.758200   145.052700\n",
              "max       8.000000     8.000000  37000.000000   -37.457090   145.526350"
            ]
          },
          "metadata": {
            "tags": []
          },
          "execution_count": 20
        }
      ]
    },
    {
      "cell_type": "code",
      "metadata": {
        "id": "L9AR6ab1BKXR",
        "colab": {
          "base_uri": "https://localhost:8080/",
          "height": 204
        },
        "outputId": "a94a5404-3fd3-40fd-a884-e6de8917e6c5"
      },
      "source": [
        "X.head()"
      ],
      "execution_count": null,
      "outputs": [
        {
          "output_type": "execute_result",
          "data": {
            "text/html": [
              "<div>\n",
              "<style scoped>\n",
              "    .dataframe tbody tr th:only-of-type {\n",
              "        vertical-align: middle;\n",
              "    }\n",
              "\n",
              "    .dataframe tbody tr th {\n",
              "        vertical-align: top;\n",
              "    }\n",
              "\n",
              "    .dataframe thead th {\n",
              "        text-align: right;\n",
              "    }\n",
              "</style>\n",
              "<table border=\"1\" class=\"dataframe\">\n",
              "  <thead>\n",
              "    <tr style=\"text-align: right;\">\n",
              "      <th></th>\n",
              "      <th>Rooms</th>\n",
              "      <th>Bathroom</th>\n",
              "      <th>Landsize</th>\n",
              "      <th>Lattitude</th>\n",
              "      <th>Longtitude</th>\n",
              "    </tr>\n",
              "  </thead>\n",
              "  <tbody>\n",
              "    <tr>\n",
              "      <th>1</th>\n",
              "      <td>2</td>\n",
              "      <td>1.0</td>\n",
              "      <td>156.0</td>\n",
              "      <td>-37.8079</td>\n",
              "      <td>144.9934</td>\n",
              "    </tr>\n",
              "    <tr>\n",
              "      <th>2</th>\n",
              "      <td>3</td>\n",
              "      <td>2.0</td>\n",
              "      <td>134.0</td>\n",
              "      <td>-37.8093</td>\n",
              "      <td>144.9944</td>\n",
              "    </tr>\n",
              "    <tr>\n",
              "      <th>4</th>\n",
              "      <td>4</td>\n",
              "      <td>1.0</td>\n",
              "      <td>120.0</td>\n",
              "      <td>-37.8072</td>\n",
              "      <td>144.9941</td>\n",
              "    </tr>\n",
              "    <tr>\n",
              "      <th>6</th>\n",
              "      <td>3</td>\n",
              "      <td>2.0</td>\n",
              "      <td>245.0</td>\n",
              "      <td>-37.8024</td>\n",
              "      <td>144.9993</td>\n",
              "    </tr>\n",
              "    <tr>\n",
              "      <th>7</th>\n",
              "      <td>2</td>\n",
              "      <td>1.0</td>\n",
              "      <td>256.0</td>\n",
              "      <td>-37.8060</td>\n",
              "      <td>144.9954</td>\n",
              "    </tr>\n",
              "  </tbody>\n",
              "</table>\n",
              "</div>"
            ],
            "text/plain": [
              "   Rooms  Bathroom  Landsize  Lattitude  Longtitude\n",
              "1      2       1.0     156.0   -37.8079    144.9934\n",
              "2      3       2.0     134.0   -37.8093    144.9944\n",
              "4      4       1.0     120.0   -37.8072    144.9941\n",
              "6      3       2.0     245.0   -37.8024    144.9993\n",
              "7      2       1.0     256.0   -37.8060    144.9954"
            ]
          },
          "metadata": {
            "tags": []
          },
          "execution_count": 22
        }
      ]
    },
    {
      "cell_type": "markdown",
      "metadata": {
        "id": "iitwUUI0JcwH"
      },
      "source": [
        "\n",
        "# Building Your Model\n",
        "You will use the scikit-learn library to create your models. When coding, this library is written as **sklearn**, as you will see in the sample code. Scikit-learn is easily the most popular library for modeling the types of data typically stored in DataFrames.\n",
        "\n",
        "The steps to building and using a model are:\n",
        "\n",
        "**Define**: What type of model will it be? A decision tree? Some other type of \n",
        "model? Some other parameters of the model type are specified too.\n",
        "\n",
        "**Fit**: Capture patterns from provided data. This is the heart of modeling.\n",
        "\n",
        "**Predict**: Just what it sounds like\n",
        "\n",
        "**Evaluate**: Determine how accurate the model's predictions are.\n",
        "Here is an example of defining a decision tree model with scikit-learn and \n",
        "\n",
        "**fitting** it with the features and target variable.\n",
        "\n"
      ]
    },
    {
      "cell_type": "code",
      "metadata": {
        "id": "evrzJP7zs5Y-"
      },
      "source": [
        "from sklearn.tree import DecisionTreeRegressor"
      ],
      "execution_count": null,
      "outputs": []
    },
    {
      "cell_type": "code",
      "metadata": {
        "id": "FMJouRn6BmYN"
      },
      "source": [
        "# Define model. Specify a number for random_state to ensure same results each run\n",
        "# 定義模型 \n",
        "# random_state=1 \n",
        "melbourne_model = DecisionTreeRegressor(random_state=1)"
      ],
      "execution_count": null,
      "outputs": []
    },
    {
      "cell_type": "code",
      "metadata": {
        "id": "YQfytpb7BqRn",
        "colab": {
          "base_uri": "https://localhost:8080/"
        },
        "outputId": "3f488fc7-a951-415e-b78d-e36ce173690e"
      },
      "source": [
        "# Fit model\n",
        "# 將上面的 X,y 給 fit 進去\n",
        "# 這個 fit 應該就是訓練的過程\n",
        "melbourne_model.fit(X, y)"
      ],
      "execution_count": null,
      "outputs": [
        {
          "output_type": "execute_result",
          "data": {
            "text/plain": [
              "DecisionTreeRegressor(ccp_alpha=0.0, criterion='mse', max_depth=None,\n",
              "                      max_features=None, max_leaf_nodes=None,\n",
              "                      min_impurity_decrease=0.0, min_impurity_split=None,\n",
              "                      min_samples_leaf=1, min_samples_split=2,\n",
              "                      min_weight_fraction_leaf=0.0, presort='deprecated',\n",
              "                      random_state=1, splitter='best')"
            ]
          },
          "metadata": {
            "tags": []
          },
          "execution_count": 27
        }
      ]
    },
    {
      "cell_type": "code",
      "metadata": {
        "id": "B92DGpDmNObr",
        "colab": {
          "base_uri": "https://localhost:8080/"
        },
        "outputId": "e4a43ddc-a863-424b-a42d-1981d90b5abd"
      },
      "source": [
        "# 先呈現要放進去預測的表格\n",
        "# 預測 X.tail 的數字 ---> 先列出來看\n",
        "print(\"Making predictions for the following 5 houses:\")\n",
        "print(X.tail())"
      ],
      "execution_count": null,
      "outputs": [
        {
          "output_type": "stream",
          "text": [
            "Making predictions for the following 5 houses:\n",
            "       Rooms  Bathroom  Landsize  Lattitude  Longtitude\n",
            "12205      3       2.0     972.0  -37.51232   145.13282\n",
            "12206      3       1.0     179.0  -37.86558   144.90474\n",
            "12207      1       1.0       0.0  -37.85588   144.89936\n",
            "12209      2       1.0       0.0  -37.85581   144.99025\n",
            "12212      6       3.0    1087.0  -37.81038   144.89389\n"
          ],
          "name": "stdout"
        }
      ]
    },
    {
      "cell_type": "code",
      "metadata": {
        "id": "WSe8sMY_sJJi",
        "colab": {
          "base_uri": "https://localhost:8080/"
        },
        "outputId": "9e0a9837-88e6-4a72-981c-1512a89ed81f"
      },
      "source": [
        "# 在predict函數的調用下,給出預測\n",
        "print(\"The predictions are\")\n",
        "# 這裡是預測 x.tail() 的這五棟房子\n",
        "print(melbourne_model.predict(X.tail()))"
      ],
      "execution_count": null,
      "outputs": [
        {
          "output_type": "stream",
          "text": [
            "The predictions are\n",
            "[ 601000. 1050000.  385000.  560000. 2450000.]\n"
          ],
          "name": "stdout"
        }
      ]
    },
    {
      "cell_type": "code",
      "metadata": {
        "id": "5xGFW-wAO7wx",
        "colab": {
          "base_uri": "https://localhost:8080/"
        },
        "outputId": "ebfafe39-d0a7-467e-8e87-549467939d39"
      },
      "source": [
        "# 預測全部\n",
        "melbourne_model.predict(X)"
      ],
      "execution_count": null,
      "outputs": [
        {
          "output_type": "execute_result",
          "data": {
            "text/plain": [
              "array([1035000., 1465000., 1600000., ...,  385000.,  560000., 2450000.])"
            ]
          },
          "metadata": {
            "tags": []
          },
          "execution_count": 30
        }
      ]
    },
    {
      "cell_type": "markdown",
      "metadata": {
        "id": "CEYWFne1Qrxa"
      },
      "source": [
        "**Model** **Validation**"
      ]
    },
    {
      "cell_type": "markdown",
      "metadata": {
        "id": "nYxGdCc7Qywa"
      },
      "source": [
        "There are many metrics for summarizing model quality, but we'll start with one called Mean Absolute Error (also called MAE). Let's break down this metric starting with the last word, error.\n",
        "\n",
        "The prediction error for each house is:\n",
        "\n",
        "*error*=actual−predicted"
      ]
    },
    {
      "cell_type": "code",
      "metadata": {
        "id": "YvC8xN7wRBV7"
      },
      "source": [
        "# 導入MAE模組\n",
        "# error=actual−predicted\n",
        "from sklearn.metrics import mean_absolute_error"
      ],
      "execution_count": null,
      "outputs": []
    },
    {
      "cell_type": "code",
      "metadata": {
        "id": "8ImAq54dso4l"
      },
      "source": [
        "# 預測結果 ---> 將 X 放進去模型裡面\n",
        "predicted_home_prices = melbourne_model.predict(X)"
      ],
      "execution_count": null,
      "outputs": []
    },
    {
      "cell_type": "code",
      "metadata": {
        "id": "cPpu-M39sv_8",
        "colab": {
          "base_uri": "https://localhost:8080/"
        },
        "outputId": "4d774a56-d808-44e5-ffda-450148340245"
      },
      "source": [
        "# error=actual(y)−predicted(X) ---> 計算 MAE\n",
        "mean_absolute_error(y, predicted_home_prices)"
      ],
      "execution_count": null,
      "outputs": [
        {
          "output_type": "execute_result",
          "data": {
            "text/plain": [
              "1115.7467183128902"
            ]
          },
          "metadata": {
            "tags": []
          },
          "execution_count": 35
        }
      ]
    },
    {
      "cell_type": "markdown",
      "metadata": {
        "id": "V2GAc30_UKB7"
      },
      "source": [
        "**The** **Problem** **with** **bold text**\"**In** **bold text**-**Sample**\" **Scores**"
      ]
    },
    {
      "cell_type": "markdown",
      "metadata": {
        "id": "b6XWBV7pUS8v"
      },
      "source": [
        "The scikit-learn library has a function **train_test_split** to break up the data into two pieces. We'll use some of that data as training data to fit the model, and we'll use the other data as validation data to calculate **mean_absolute_error**."
      ]
    },
    {
      "cell_type": "markdown",
      "metadata": {
        "id": "6D_IlZgTtuC_"
      },
      "source": [
        "# [平均絕對誤差的基本解釋](https://staruphackers.com/%E4%BB%80%E9%BA%BC%E6%98%AF%E5%B9%B3%E5%9D%87%E7%B5%95%E5%B0%8D%E8%AA%A4%E5%B7%AE-mean-absolute-error-mae%EF%BC%9F/)\n",
        "\n",
        "對同一物理量進行多次測量時，各次測量值及其絕對誤差不會相同，我們將各次測量的絕對誤差取絕對值後再求平均值，並稱其為平均絕對誤差。\n",
        "\n",
        "平均絕對誤差是所有單個觀測值與算術平均值的偏差的絕對值的平均。與平均誤差相比，平均絕對誤差由於離差被絕對值化，不會出現正負相抵消的情況，因而，平均絕對誤差能更好地反映預測值誤差的實際情況。"
      ]
    },
    {
      "cell_type": "code",
      "metadata": {
        "id": "0L-uq3vAUcoB"
      },
      "source": [
        "# 導入函示將數據分為二個：訓練資料＆驗證資料\n",
        "from sklearn.model_selection import train_test_split"
      ],
      "execution_count": null,
      "outputs": []
    },
    {
      "cell_type": "code",
      "metadata": {
        "id": "pqX2Df6GU6r3"
      },
      "source": [
        "# split data into training and validation data, for both features and target\n",
        "# The split is based on a random number generator. Supplying a numeric value to\n",
        "# the random_state argument guarantees we get the same split every time we\n",
        "# run this script.\n",
        "train_X, val_X, train_y, val_y = train_test_split(X, y, random_state = 0)"
      ],
      "execution_count": null,
      "outputs": []
    },
    {
      "cell_type": "code",
      "metadata": {
        "id": "fgGaowdZVNGm"
      },
      "source": [
        "# Define model\n",
        "# 這裡沒有放 random_state \n",
        "melbourne_model = DecisionTreeRegressor()"
      ],
      "execution_count": null,
      "outputs": []
    },
    {
      "cell_type": "code",
      "metadata": {
        "id": "ERD4sL13VXrR",
        "colab": {
          "base_uri": "https://localhost:8080/"
        },
        "outputId": "79343a63-932c-4270-9272-5583438d097f"
      },
      "source": [
        "# Fit model\n",
        "# 在這個階段就透過train資料訓練好模型\n",
        "melbourne_model.fit(train_X, train_y)"
      ],
      "execution_count": null,
      "outputs": [
        {
          "output_type": "execute_result",
          "data": {
            "text/plain": [
              "DecisionTreeRegressor(ccp_alpha=0.0, criterion='mse', max_depth=None,\n",
              "                      max_features=None, max_leaf_nodes=None,\n",
              "                      min_impurity_decrease=0.0, min_impurity_split=None,\n",
              "                      min_samples_leaf=1, min_samples_split=2,\n",
              "                      min_weight_fraction_leaf=0.0, presort='deprecated',\n",
              "                      random_state=None, splitter='best')"
            ]
          },
          "metadata": {
            "tags": []
          },
          "execution_count": 40
        }
      ]
    },
    {
      "cell_type": "code",
      "metadata": {
        "id": "SHBwkq6zVT9f",
        "colab": {
          "base_uri": "https://localhost:8080/"
        },
        "outputId": "c0717ed9-b8e3-4ea3-ba4c-5a2b1b113d83"
      },
      "source": [
        "# get predicted prices on validation data\n",
        "# 將訓練好的模型 melbourne_model 用來預測 val_X \n",
        "# 再將 val_y 來計算 MAE (mean-absolute-error)\n",
        "val_predictions = melbourne_model.predict(val_X)\n",
        "print(mean_absolute_error(val_y, val_predictions))"
      ],
      "execution_count": null,
      "outputs": [
        {
          "output_type": "stream",
          "text": [
            "270772.52636109316\n"
          ],
          "name": "stdout"
        }
      ]
    },
    {
      "cell_type": "markdown",
      "metadata": {
        "id": "PyrWiCnPu8RL"
      },
      "source": [
        "![decision_tree.png](data:image/png;base64,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)\n",
        "\n",
        "[sklearn model](https://scikit-learn.org/stable/modules/generated/sklearn.tree.DecisionTreeRegressor.html)"
      ]
    },
    {
      "cell_type": "markdown",
      "metadata": {
        "id": "Ero9NmEjwCRc"
      },
      "source": [
        "個人猜測,這個模型的算法,主要是根據我們所選擇的欄位(X),去建立分叉路,機器會判讀每個欄位的特徵,建立一個分類的標準,然後一層一層的建立一下,最後則是將所有結論歸結到 y "
      ]
    },
    {
      "cell_type": "markdown",
      "metadata": {
        "id": "FAWl1_6ew8W4"
      },
      "source": [
        "#### **Overfitting**\n",
        "When we divide the houses amongst many leaves, we also have fewer houses in each leaf. Leaves with very few houses will make predictions that are quite close to those homes' actual values, but they may make very unreliable predictions for new data (because each prediction is based on only a few houses).This is a phenomenon called **overfitting**, **where a model matches the training data almost perfectly, but does poorly in validation and other new data.** On the flip side, if we make our tree very shallow, it doesn't divide up the houses into very distinct groups."
      ]
    },
    {
      "cell_type": "markdown",
      "metadata": {
        "id": "kfTuduKnxgij"
      },
      "source": [
        "#### **Underfitting**\n",
        "At an extreme, if a tree divides houses into only 2 or 4, each group still has a wide variety of houses. Resulting predictions may be far off for most houses, even in the training data (and it will be bad in validation too for the same reason). When a model fails to capture important distinctions and patterns in the data, so it performs poorly even in training data, that is called **underfitting**."
      ]
    },
    {
      "cell_type": "markdown",
      "metadata": {
        "id": "N4T411u0x9p2"
      },
      "source": [
        "Since we care about accuracy on new data, which we estimate from our validation data, we want to find the sweet spot between underfitting and overfitting. **Visually, we want the low point of the (red) validation curve in**"
      ]
    },
    {
      "cell_type": "markdown",
      "metadata": {
        "id": "8PNanIR4yOQS"
      },
      "source": [
        "![between_underfitting_overfitting.png](data:image/png;base64,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)"
      ]
    },
    {
      "cell_type": "markdown",
      "metadata": {
        "id": "TFPXvdthy9f7"
      },
      "source": [
        "#### **max_leaf_nodes**\n",
        "\n",
        "There are a few alternatives for controlling the tree depth, and many allow for some routes through the tree to have greater depth than other routes. But the max_leaf_nodes argument provides a very sensible way to control overfitting vs underfitting. The more leaves we allow the model to make, the more we move from the underfitting area in the above graph to the overfitting area.\n",
        "\n",
        "We can use a utility function to help compare MAE scores from different values for max_leaf_nodes:"
      ]
    },
    {
      "cell_type": "code",
      "metadata": {
        "id": "14_1qvj8z6ZI"
      },
      "source": [
        "from sklearn.metrics import mean_absolute_error\n",
        "from sklearn.tree import DecisionTreeRegressor"
      ],
      "execution_count": null,
      "outputs": []
    },
    {
      "cell_type": "markdown",
      "metadata": {
        "id": "Gf8LjqgT3B0c"
      },
      "source": [
        "The data is loaded into train_X, val_X, train_y and val_y using the code you've already seen (and which you've already written)."
      ]
    },
    {
      "cell_type": "code",
      "metadata": {
        "id": "gBCIfGzv3BPa"
      },
      "source": [
        "# Data Loading Code Runs At This Point\n",
        "import pandas as pd\n",
        "    \n",
        "# Load data\n",
        "melbourne_file_path = '/content/drive/My Drive/Colab Notebooks/melb_data.csv'\n",
        "melbourne_data = pd.read_csv(melbourne_file_path) \n",
        "# Filter rows with missing values\n",
        "filtered_melbourne_data = melbourne_data.dropna(axis=0)\n",
        "# Choose target and features\n",
        "y = filtered_melbourne_data.Price\n",
        "melbourne_features = ['Rooms', 'Bathroom', 'Landsize', 'BuildingArea', 'YearBuilt', 'Lattitude', 'Longtitude']\n",
        "X = filtered_melbourne_data[melbourne_features]\n",
        "\n",
        "from sklearn.model_selection import train_test_split\n",
        "\n",
        "# split data into training and validation data, for both features and target\n",
        "train_X, val_X, train_y, val_y = train_test_split(X, y,random_state = 0)"
      ],
      "execution_count": null,
      "outputs": []
    },
    {
      "cell_type": "code",
      "metadata": {
        "id": "ySk6E1OA0AMM"
      },
      "source": [
        "def get_mae(max_leaf_nodes, train_X, val_X, train_y, val_y):\n",
        "    # 在原本的model中, 加入另外一個參數 - max_leaf_nodes ---> 透過自己寫的 function ---> get_mae 帶入 max_leaf_nodes 的值為多少 \n",
        "    model = DecisionTreeRegressor(max_leaf_nodes=max_leaf_nodes, random_state=0)\n",
        "    # 這行不變, 將訓練資料帶入 fit 那個 model ---> 訓練資料\n",
        "    model.fit(train_X, train_y)\n",
        "    # 將驗證資料帶入得到驗證的值\n",
        "    preds_val = model.predict(val_X)\n",
        "    # 再用驗證的價值去計算 mae\n",
        "    mae = mean_absolute_error(val_y, preds_val)\n",
        "    return(mae)"
      ],
      "execution_count": null,
      "outputs": []
    },
    {
      "cell_type": "markdown",
      "metadata": {
        "id": "YgW1aBrb2zOe"
      },
      "source": [
        "We can use a for-loop to compare the accuracy of models built with different values for max_leaf_nodes."
      ]
    },
    {
      "cell_type": "code",
      "metadata": {
        "id": "rYJOa9i_204Y",
        "colab": {
          "base_uri": "https://localhost:8080/"
        },
        "outputId": "fcffa797-edde-47a9-f7cf-1fe42a01c25a"
      },
      "source": [
        "# compare MAE with differing values of max_leaf_nodes\n",
        "for max_leaf_nodes in [5, 50, 500, 5000]:\n",
        "    my_mae = get_mae(max_leaf_nodes, train_X, val_X, train_y, val_y)\n",
        "    print(\"Max leaf nodes: %d  \\t\\t Mean Absolute Error:  %d\" %(max_leaf_nodes, my_mae))"
      ],
      "execution_count": null,
      "outputs": [
        {
          "output_type": "stream",
          "text": [
            "Max leaf nodes: 5  \t\t Mean Absolute Error:  347380\n",
            "Max leaf nodes: 50  \t\t Mean Absolute Error:  258171\n",
            "Max leaf nodes: 500  \t\t Mean Absolute Error:  243495\n",
            "Max leaf nodes: 5000  \t\t Mean Absolute Error:  254983\n"
          ],
          "name": "stdout"
        }
      ]
    },
    {
      "cell_type": "markdown",
      "metadata": {
        "id": "tUlFFYAV4Wk4"
      },
      "source": [
        "Max leaf nodes: 5  \t\t Mean Absolute Error:  347380<br>\n",
        "Max leaf nodes: 50  \t\t Mean Absolute Error:  258171<br>\n",
        "**Max leaf nodes: 500  \t\t Mean Absolute Error:  243495<br>**\n",
        "Max leaf nodes: 5000  \t\t Mean Absolute Error:  254983<br>"
      ]
    },
    {
      "cell_type": "code",
      "metadata": {
        "id": "GzBpeponIheZ"
      },
      "source": [
        ""
      ],
      "execution_count": null,
      "outputs": []
    },
    {
      "cell_type": "markdown",
      "metadata": {
        "id": "Sa-2EQaA4g6E"
      },
      "source": [
        "Of the options listed, 500 is the optimal number of leaves."
      ]
    },
    {
      "cell_type": "markdown",
      "metadata": {
        "id": "LAkD4ocI41Yq"
      },
      "source": [
        "#### Conclusion\n",
        "<br>\n",
        "Here's the takeaway: Models can suffer from either:\n",
        "\n",
        "Overfitting: capturing spurious patterns that won't recur in the future, leading to less accurate predictions, or\n",
        "Underfitting: failing to capture relevant patterns, again leading to less accurate predictions.\n",
        "We use validation data, which isn't used in model training, to measure a candidate model's accuracy. This lets us try many candidate models and keep the best one.\n",
        "\n"
      ]
    },
    {
      "cell_type": "markdown",
      "metadata": {
        "id": "cpxGtGlAOxGg"
      },
      "source": [
        "### Case Two"
      ]
    },
    {
      "cell_type": "code",
      "metadata": {
        "id": "BeICSAcbrMni",
        "colab": {
          "base_uri": "https://localhost:8080/"
        },
        "outputId": "095067a9-515b-49da-b66f-6ede576f9bff"
      },
      "source": [
        "# Code you have previously used to load data\n",
        "import pandas as pd\n",
        "from sklearn.metrics import mean_absolute_error\n",
        "from sklearn.model_selection import train_test_split\n",
        "from sklearn.tree import DecisionTreeRegressor\n",
        "\n",
        "\n",
        "# Path of the file to read\n",
        "iowa_file_path = '../input/home-data-for-ml-course/train.csv'\n",
        "\n",
        "home_data = pd.read_csv(iowa_file_path)\n",
        "# Create target object and call it y\n",
        "y = home_data.SalePrice\n",
        "# Create X\n",
        "features = ['LotArea', 'YearBuilt', '1stFlrSF', '2ndFlrSF', 'FullBath', 'BedroomAbvGr', 'TotRmsAbvGrd']\n",
        "X = home_data[features]\n",
        "\n",
        "# Split into validation and training data\n",
        "train_X, val_X, train_y, val_y = train_test_split(X, y, random_state=1)\n",
        "\n",
        "# Specify Model\n",
        "iowa_model = DecisionTreeRegressor(random_state=1)\n",
        "# Fit Model\n",
        "iowa_model.fit(train_X, train_y)\n",
        "\n",
        "# Make validation predictions and calculate mean absolute error\n",
        "val_predictions = iowa_model.predict(val_X)\n",
        "val_mae = mean_absolute_error(val_predictions, val_y)\n",
        "print(\"Validation MAE when not specifying max_leaf_nodes: {:,.0f}\".format(val_mae))\n",
        "\n",
        "# Using best value for max_leaf_nodes\n",
        "iowa_model = DecisionTreeRegressor(max_leaf_nodes=100, random_state=1)\n",
        "iowa_model.fit(train_X, train_y)\n",
        "val_predictions = iowa_model.predict(val_X)\n",
        "val_mae = mean_absolute_error(val_predictions, val_y)\n",
        "print(\"Validation MAE for best value of max_leaf_nodes: {:,.0f}\".format(val_mae))\n"
      ],
      "execution_count": null,
      "outputs": [
        {
          "output_type": "error",
          "ename": "FileNotFoundError",
          "evalue": "ignored",
          "traceback": [
            "\u001b[0;31m---------------------------------------------------------------------------\u001b[0m",
            "\u001b[0;31mFileNotFoundError\u001b[0m                         Traceback (most recent call last)",
            "\u001b[0;32m<ipython-input-1-d2e34803b0a7>\u001b[0m in \u001b[0;36m<module>\u001b[0;34m()\u001b[0m\n\u001b[1;32m      9\u001b[0m \u001b[0miowa_file_path\u001b[0m \u001b[0;34m=\u001b[0m \u001b[0;34m'../input/home-data-for-ml-course/train.csv'\u001b[0m\u001b[0;34m\u001b[0m\u001b[0;34m\u001b[0m\u001b[0m\n\u001b[1;32m     10\u001b[0m \u001b[0;34m\u001b[0m\u001b[0m\n\u001b[0;32m---> 11\u001b[0;31m \u001b[0mhome_data\u001b[0m \u001b[0;34m=\u001b[0m \u001b[0mpd\u001b[0m\u001b[0;34m.\u001b[0m\u001b[0mread_csv\u001b[0m\u001b[0;34m(\u001b[0m\u001b[0miowa_file_path\u001b[0m\u001b[0;34m)\u001b[0m\u001b[0;34m\u001b[0m\u001b[0;34m\u001b[0m\u001b[0m\n\u001b[0m\u001b[1;32m     12\u001b[0m \u001b[0;31m# Create target object and call it y\u001b[0m\u001b[0;34m\u001b[0m\u001b[0;34m\u001b[0m\u001b[0;34m\u001b[0m\u001b[0m\n\u001b[1;32m     13\u001b[0m \u001b[0my\u001b[0m \u001b[0;34m=\u001b[0m \u001b[0mhome_data\u001b[0m\u001b[0;34m.\u001b[0m\u001b[0mSalePrice\u001b[0m\u001b[0;34m\u001b[0m\u001b[0;34m\u001b[0m\u001b[0m\n",
            "\u001b[0;32m/usr/local/lib/python3.6/dist-packages/pandas/io/parsers.py\u001b[0m in \u001b[0;36mread_csv\u001b[0;34m(filepath_or_buffer, sep, delimiter, header, names, index_col, usecols, squeeze, prefix, mangle_dupe_cols, dtype, engine, converters, true_values, false_values, skipinitialspace, skiprows, skipfooter, nrows, na_values, keep_default_na, na_filter, verbose, skip_blank_lines, parse_dates, infer_datetime_format, keep_date_col, date_parser, dayfirst, cache_dates, iterator, chunksize, compression, thousands, decimal, lineterminator, quotechar, quoting, doublequote, escapechar, comment, encoding, dialect, error_bad_lines, warn_bad_lines, delim_whitespace, low_memory, memory_map, float_precision)\u001b[0m\n\u001b[1;32m    684\u001b[0m     )\n\u001b[1;32m    685\u001b[0m \u001b[0;34m\u001b[0m\u001b[0m\n\u001b[0;32m--> 686\u001b[0;31m     \u001b[0;32mreturn\u001b[0m \u001b[0m_read\u001b[0m\u001b[0;34m(\u001b[0m\u001b[0mfilepath_or_buffer\u001b[0m\u001b[0;34m,\u001b[0m \u001b[0mkwds\u001b[0m\u001b[0;34m)\u001b[0m\u001b[0;34m\u001b[0m\u001b[0;34m\u001b[0m\u001b[0m\n\u001b[0m\u001b[1;32m    687\u001b[0m \u001b[0;34m\u001b[0m\u001b[0m\n\u001b[1;32m    688\u001b[0m \u001b[0;34m\u001b[0m\u001b[0m\n",
            "\u001b[0;32m/usr/local/lib/python3.6/dist-packages/pandas/io/parsers.py\u001b[0m in \u001b[0;36m_read\u001b[0;34m(filepath_or_buffer, kwds)\u001b[0m\n\u001b[1;32m    450\u001b[0m \u001b[0;34m\u001b[0m\u001b[0m\n\u001b[1;32m    451\u001b[0m     \u001b[0;31m# Create the parser.\u001b[0m\u001b[0;34m\u001b[0m\u001b[0;34m\u001b[0m\u001b[0;34m\u001b[0m\u001b[0m\n\u001b[0;32m--> 452\u001b[0;31m     \u001b[0mparser\u001b[0m \u001b[0;34m=\u001b[0m \u001b[0mTextFileReader\u001b[0m\u001b[0;34m(\u001b[0m\u001b[0mfp_or_buf\u001b[0m\u001b[0;34m,\u001b[0m \u001b[0;34m**\u001b[0m\u001b[0mkwds\u001b[0m\u001b[0;34m)\u001b[0m\u001b[0;34m\u001b[0m\u001b[0;34m\u001b[0m\u001b[0m\n\u001b[0m\u001b[1;32m    453\u001b[0m \u001b[0;34m\u001b[0m\u001b[0m\n\u001b[1;32m    454\u001b[0m     \u001b[0;32mif\u001b[0m \u001b[0mchunksize\u001b[0m \u001b[0;32mor\u001b[0m \u001b[0miterator\u001b[0m\u001b[0;34m:\u001b[0m\u001b[0;34m\u001b[0m\u001b[0;34m\u001b[0m\u001b[0m\n",
            "\u001b[0;32m/usr/local/lib/python3.6/dist-packages/pandas/io/parsers.py\u001b[0m in \u001b[0;36m__init__\u001b[0;34m(self, f, engine, **kwds)\u001b[0m\n\u001b[1;32m    944\u001b[0m             \u001b[0mself\u001b[0m\u001b[0;34m.\u001b[0m\u001b[0moptions\u001b[0m\u001b[0;34m[\u001b[0m\u001b[0;34m\"has_index_names\"\u001b[0m\u001b[0;34m]\u001b[0m \u001b[0;34m=\u001b[0m \u001b[0mkwds\u001b[0m\u001b[0;34m[\u001b[0m\u001b[0;34m\"has_index_names\"\u001b[0m\u001b[0;34m]\u001b[0m\u001b[0;34m\u001b[0m\u001b[0;34m\u001b[0m\u001b[0m\n\u001b[1;32m    945\u001b[0m \u001b[0;34m\u001b[0m\u001b[0m\n\u001b[0;32m--> 946\u001b[0;31m         \u001b[0mself\u001b[0m\u001b[0;34m.\u001b[0m\u001b[0m_make_engine\u001b[0m\u001b[0;34m(\u001b[0m\u001b[0mself\u001b[0m\u001b[0;34m.\u001b[0m\u001b[0mengine\u001b[0m\u001b[0;34m)\u001b[0m\u001b[0;34m\u001b[0m\u001b[0;34m\u001b[0m\u001b[0m\n\u001b[0m\u001b[1;32m    947\u001b[0m \u001b[0;34m\u001b[0m\u001b[0m\n\u001b[1;32m    948\u001b[0m     \u001b[0;32mdef\u001b[0m \u001b[0mclose\u001b[0m\u001b[0;34m(\u001b[0m\u001b[0mself\u001b[0m\u001b[0;34m)\u001b[0m\u001b[0;34m:\u001b[0m\u001b[0;34m\u001b[0m\u001b[0;34m\u001b[0m\u001b[0m\n",
            "\u001b[0;32m/usr/local/lib/python3.6/dist-packages/pandas/io/parsers.py\u001b[0m in \u001b[0;36m_make_engine\u001b[0;34m(self, engine)\u001b[0m\n\u001b[1;32m   1176\u001b[0m     \u001b[0;32mdef\u001b[0m \u001b[0m_make_engine\u001b[0m\u001b[0;34m(\u001b[0m\u001b[0mself\u001b[0m\u001b[0;34m,\u001b[0m \u001b[0mengine\u001b[0m\u001b[0;34m=\u001b[0m\u001b[0;34m\"c\"\u001b[0m\u001b[0;34m)\u001b[0m\u001b[0;34m:\u001b[0m\u001b[0;34m\u001b[0m\u001b[0;34m\u001b[0m\u001b[0m\n\u001b[1;32m   1177\u001b[0m         \u001b[0;32mif\u001b[0m \u001b[0mengine\u001b[0m \u001b[0;34m==\u001b[0m \u001b[0;34m\"c\"\u001b[0m\u001b[0;34m:\u001b[0m\u001b[0;34m\u001b[0m\u001b[0;34m\u001b[0m\u001b[0m\n\u001b[0;32m-> 1178\u001b[0;31m             \u001b[0mself\u001b[0m\u001b[0;34m.\u001b[0m\u001b[0m_engine\u001b[0m \u001b[0;34m=\u001b[0m \u001b[0mCParserWrapper\u001b[0m\u001b[0;34m(\u001b[0m\u001b[0mself\u001b[0m\u001b[0;34m.\u001b[0m\u001b[0mf\u001b[0m\u001b[0;34m,\u001b[0m \u001b[0;34m**\u001b[0m\u001b[0mself\u001b[0m\u001b[0;34m.\u001b[0m\u001b[0moptions\u001b[0m\u001b[0;34m)\u001b[0m\u001b[0;34m\u001b[0m\u001b[0;34m\u001b[0m\u001b[0m\n\u001b[0m\u001b[1;32m   1179\u001b[0m         \u001b[0;32melse\u001b[0m\u001b[0;34m:\u001b[0m\u001b[0;34m\u001b[0m\u001b[0;34m\u001b[0m\u001b[0m\n\u001b[1;32m   1180\u001b[0m             \u001b[0;32mif\u001b[0m \u001b[0mengine\u001b[0m \u001b[0;34m==\u001b[0m \u001b[0;34m\"python\"\u001b[0m\u001b[0;34m:\u001b[0m\u001b[0;34m\u001b[0m\u001b[0;34m\u001b[0m\u001b[0m\n",
            "\u001b[0;32m/usr/local/lib/python3.6/dist-packages/pandas/io/parsers.py\u001b[0m in \u001b[0;36m__init__\u001b[0;34m(self, src, **kwds)\u001b[0m\n\u001b[1;32m   2006\u001b[0m         \u001b[0mkwds\u001b[0m\u001b[0;34m[\u001b[0m\u001b[0;34m\"usecols\"\u001b[0m\u001b[0;34m]\u001b[0m \u001b[0;34m=\u001b[0m \u001b[0mself\u001b[0m\u001b[0;34m.\u001b[0m\u001b[0musecols\u001b[0m\u001b[0;34m\u001b[0m\u001b[0;34m\u001b[0m\u001b[0m\n\u001b[1;32m   2007\u001b[0m \u001b[0;34m\u001b[0m\u001b[0m\n\u001b[0;32m-> 2008\u001b[0;31m         \u001b[0mself\u001b[0m\u001b[0;34m.\u001b[0m\u001b[0m_reader\u001b[0m \u001b[0;34m=\u001b[0m \u001b[0mparsers\u001b[0m\u001b[0;34m.\u001b[0m\u001b[0mTextReader\u001b[0m\u001b[0;34m(\u001b[0m\u001b[0msrc\u001b[0m\u001b[0;34m,\u001b[0m \u001b[0;34m**\u001b[0m\u001b[0mkwds\u001b[0m\u001b[0;34m)\u001b[0m\u001b[0;34m\u001b[0m\u001b[0;34m\u001b[0m\u001b[0m\n\u001b[0m\u001b[1;32m   2009\u001b[0m         \u001b[0mself\u001b[0m\u001b[0;34m.\u001b[0m\u001b[0munnamed_cols\u001b[0m \u001b[0;34m=\u001b[0m \u001b[0mself\u001b[0m\u001b[0;34m.\u001b[0m\u001b[0m_reader\u001b[0m\u001b[0;34m.\u001b[0m\u001b[0munnamed_cols\u001b[0m\u001b[0;34m\u001b[0m\u001b[0;34m\u001b[0m\u001b[0m\n\u001b[1;32m   2010\u001b[0m \u001b[0;34m\u001b[0m\u001b[0m\n",
            "\u001b[0;32mpandas/_libs/parsers.pyx\u001b[0m in \u001b[0;36mpandas._libs.parsers.TextReader.__cinit__\u001b[0;34m()\u001b[0m\n",
            "\u001b[0;32mpandas/_libs/parsers.pyx\u001b[0m in \u001b[0;36mpandas._libs.parsers.TextReader._setup_parser_source\u001b[0;34m()\u001b[0m\n",
            "\u001b[0;31mFileNotFoundError\u001b[0m: [Errno 2] No such file or directory: '../input/home-data-for-ml-course/train.csv'"
          ]
        }
      ]
    },
    {
      "cell_type": "markdown",
      "metadata": {
        "id": "d3HrY3cbOgLT"
      },
      "source": [
        "# Random Forest\n",
        "\n",
        "The random forest uses many trees, and it makes a prediction by averaging the predictions of each component tree. It generally has much better predictive accuracy than a single decision tree and it works well with default parameters. If you keep modeling, you can learn more models with even better performance, but many of those are sensitive to getting the right parameters."
      ]
    },
    {
      "cell_type": "markdown",
      "metadata": {
        "id": "UZHwlXcQrv8f"
      },
      "source": [
        "### Case One"
      ]
    },
    {
      "cell_type": "code",
      "metadata": {
        "id": "MHZeBlWyQqao"
      },
      "source": [
        "import pandas as pd\n",
        "    \n",
        "# Load data\n",
        "melbourne_file_path = '/content/drive/My Drive/Colab Notebooks/melb_data.csv'\n",
        "melbourne_data = pd.read_csv(melbourne_file_path) \n",
        "# Filter rows with missing values\n",
        "melbourne_data = melbourne_data.dropna(axis=0)\n",
        "# Choose target and features\n",
        "y = melbourne_data.Price\n",
        "melbourne_features = ['Rooms', 'Bathroom', 'Landsize', 'BuildingArea', \n",
        "                        'YearBuilt', 'Lattitude', 'Longtitude']\n",
        "X = melbourne_data[melbourne_features]\n",
        "\n",
        "from sklearn.model_selection import train_test_split\n",
        "\n",
        "# split data into training and validation data, for both features and target\n",
        "# The split is based on a random number generator. Supplying a numeric value to\n",
        "# the random_state argument guarantees we get the same split every time we\n",
        "# run this script.\n",
        "train_X, val_X, train_y, val_y = train_test_split(X, y,random_state = 0)"
      ],
      "execution_count": null,
      "outputs": []
    },
    {
      "cell_type": "code",
      "metadata": {
        "id": "WSF7diPgPr8q",
        "colab": {
          "base_uri": "https://localhost:8080/"
        },
        "outputId": "3245b888-ec73-4598-f645-51ea53e8ae9a"
      },
      "source": [
        "from sklearn.ensemble import RandomForestRegressor\n",
        "from sklearn.metrics import mean_absolute_error\n",
        "\n",
        "forest_model = RandomForestRegressor(random_state=1)\n",
        "forest_model.fit(train_X, train_y)\n",
        "melb_preds = forest_model.predict(val_X)\n",
        "print(mean_absolute_error(val_y, melb_preds))"
      ],
      "execution_count": null,
      "outputs": [
        {
          "output_type": "stream",
          "text": [
            "191669.7536453626\n"
          ],
          "name": "stdout"
        }
      ]
    },
    {
      "cell_type": "markdown",
      "metadata": {
        "id": "J58AnFgCQO9H"
      },
      "source": [
        "### Conclusion\n",
        "There is likely room for further improvement, but this is a big improvement over the best decision tree error of 250,000. There are parameters which allow you to change the performance of the Random Forest much as we changed the maximum depth of the single decision tree. But one of the best features of Random Forest models is that they generally work reasonably even without this tuning."
      ]
    },
    {
      "cell_type": "code",
      "metadata": {
        "id": "A0HgFb1tQP-h"
      },
      "source": [
        ""
      ],
      "execution_count": null,
      "outputs": []
    },
    {
      "cell_type": "markdown",
      "metadata": {
        "id": "y3p8ZUJxrnY_"
      },
      "source": [
        "### Case Two"
      ]
    },
    {
      "cell_type": "markdown",
      "metadata": {
        "id": "Z_kQHuAnr2_T"
      },
      "source": [
        "Step 1: Use a Random Forest"
      ]
    },
    {
      "cell_type": "markdown",
      "metadata": {
        "id": "6WN_BrwsBqcT"
      },
      "source": [
        "Here's the code you've written so far."
      ]
    },
    {
      "cell_type": "code",
      "metadata": {
        "id": "bAzinTD3BlQM",
        "colab": {
          "base_uri": "https://localhost:8080/",
          "height": 444
        },
        "outputId": "f8ab8f77-496c-419c-bb86-0575c06fa5c1"
      },
      "source": [
        "# Code you have previously used to load data\n",
        "import pandas as pd\n",
        "from sklearn.metrics import mean_absolute_error\n",
        "from sklearn.model_selection import train_test_split\n",
        "from sklearn.tree import DecisionTreeRegressor\n",
        "\n",
        "\n",
        "# Path of the file to read\n",
        "iowa_file_path = '../input/home-data-for-ml-course/train.csv'\n",
        "\n",
        "home_data = pd.read_csv(iowa_file_path)\n",
        "# Create target object and call it y\n",
        "y = home_data.SalePrice\n",
        "# Create X\n",
        "features = ['LotArea', 'YearBuilt', '1stFlrSF', '2ndFlrSF', 'FullBath', 'BedroomAbvGr', 'TotRmsAbvGrd']\n",
        "X = home_data[features]\n",
        "\n",
        "# Split into validation and training data\n",
        "train_X, val_X, train_y, val_y = train_test_split(X, y, random_state=1)\n",
        "\n",
        "# Specify Model\n",
        "iowa_model = DecisionTreeRegressor(random_state=1)\n",
        "# Fit Model\n",
        "iowa_model.fit(train_X, train_y)\n",
        "\n",
        "# Make validation predictions and calculate mean absolute error\n",
        "val_predictions = iowa_model.predict(val_X)\n",
        "val_mae = mean_absolute_error(val_predictions, val_y)\n",
        "print(\"Validation MAE when not specifying max_leaf_nodes: {:,.0f}\".format(val_mae))\n",
        "\n",
        "# Using best value for max_leaf_nodes\n",
        "iowa_model = DecisionTreeRegressor(max_leaf_nodes=100, random_state=1)\n",
        "iowa_model.fit(train_X, train_y)\n",
        "val_predictions = iowa_model.predict(val_X)\n",
        "val_mae = mean_absolute_error(val_predictions, val_y)\n",
        "print(\"Validation MAE for best value of max_leaf_nodes: {:,.0f}\".format(val_mae))\n"
      ],
      "execution_count": null,
      "outputs": [
        {
          "output_type": "error",
          "ename": "FileNotFoundError",
          "evalue": "ignored",
          "traceback": [
            "\u001b[0;31m---------------------------------------------------------------------------\u001b[0m",
            "\u001b[0;31mFileNotFoundError\u001b[0m                         Traceback (most recent call last)",
            "\u001b[0;32m<ipython-input-3-d2e34803b0a7>\u001b[0m in \u001b[0;36m<module>\u001b[0;34m()\u001b[0m\n\u001b[1;32m      9\u001b[0m \u001b[0miowa_file_path\u001b[0m \u001b[0;34m=\u001b[0m \u001b[0;34m'../input/home-data-for-ml-course/train.csv'\u001b[0m\u001b[0;34m\u001b[0m\u001b[0;34m\u001b[0m\u001b[0m\n\u001b[1;32m     10\u001b[0m \u001b[0;34m\u001b[0m\u001b[0m\n\u001b[0;32m---> 11\u001b[0;31m \u001b[0mhome_data\u001b[0m \u001b[0;34m=\u001b[0m \u001b[0mpd\u001b[0m\u001b[0;34m.\u001b[0m\u001b[0mread_csv\u001b[0m\u001b[0;34m(\u001b[0m\u001b[0miowa_file_path\u001b[0m\u001b[0;34m)\u001b[0m\u001b[0;34m\u001b[0m\u001b[0;34m\u001b[0m\u001b[0m\n\u001b[0m\u001b[1;32m     12\u001b[0m \u001b[0;31m# Create target object and call it y\u001b[0m\u001b[0;34m\u001b[0m\u001b[0;34m\u001b[0m\u001b[0;34m\u001b[0m\u001b[0m\n\u001b[1;32m     13\u001b[0m \u001b[0my\u001b[0m \u001b[0;34m=\u001b[0m \u001b[0mhome_data\u001b[0m\u001b[0;34m.\u001b[0m\u001b[0mSalePrice\u001b[0m\u001b[0;34m\u001b[0m\u001b[0;34m\u001b[0m\u001b[0m\n",
            "\u001b[0;32m/usr/local/lib/python3.6/dist-packages/pandas/io/parsers.py\u001b[0m in \u001b[0;36mread_csv\u001b[0;34m(filepath_or_buffer, sep, delimiter, header, names, index_col, usecols, squeeze, prefix, mangle_dupe_cols, dtype, engine, converters, true_values, false_values, skipinitialspace, skiprows, skipfooter, nrows, na_values, keep_default_na, na_filter, verbose, skip_blank_lines, parse_dates, infer_datetime_format, keep_date_col, date_parser, dayfirst, cache_dates, iterator, chunksize, compression, thousands, decimal, lineterminator, quotechar, quoting, doublequote, escapechar, comment, encoding, dialect, error_bad_lines, warn_bad_lines, delim_whitespace, low_memory, memory_map, float_precision)\u001b[0m\n\u001b[1;32m    684\u001b[0m     )\n\u001b[1;32m    685\u001b[0m \u001b[0;34m\u001b[0m\u001b[0m\n\u001b[0;32m--> 686\u001b[0;31m     \u001b[0;32mreturn\u001b[0m \u001b[0m_read\u001b[0m\u001b[0;34m(\u001b[0m\u001b[0mfilepath_or_buffer\u001b[0m\u001b[0;34m,\u001b[0m \u001b[0mkwds\u001b[0m\u001b[0;34m)\u001b[0m\u001b[0;34m\u001b[0m\u001b[0;34m\u001b[0m\u001b[0m\n\u001b[0m\u001b[1;32m    687\u001b[0m \u001b[0;34m\u001b[0m\u001b[0m\n\u001b[1;32m    688\u001b[0m \u001b[0;34m\u001b[0m\u001b[0m\n",
            "\u001b[0;32m/usr/local/lib/python3.6/dist-packages/pandas/io/parsers.py\u001b[0m in \u001b[0;36m_read\u001b[0;34m(filepath_or_buffer, kwds)\u001b[0m\n\u001b[1;32m    450\u001b[0m \u001b[0;34m\u001b[0m\u001b[0m\n\u001b[1;32m    451\u001b[0m     \u001b[0;31m# Create the parser.\u001b[0m\u001b[0;34m\u001b[0m\u001b[0;34m\u001b[0m\u001b[0;34m\u001b[0m\u001b[0m\n\u001b[0;32m--> 452\u001b[0;31m     \u001b[0mparser\u001b[0m \u001b[0;34m=\u001b[0m \u001b[0mTextFileReader\u001b[0m\u001b[0;34m(\u001b[0m\u001b[0mfp_or_buf\u001b[0m\u001b[0;34m,\u001b[0m \u001b[0;34m**\u001b[0m\u001b[0mkwds\u001b[0m\u001b[0;34m)\u001b[0m\u001b[0;34m\u001b[0m\u001b[0;34m\u001b[0m\u001b[0m\n\u001b[0m\u001b[1;32m    453\u001b[0m \u001b[0;34m\u001b[0m\u001b[0m\n\u001b[1;32m    454\u001b[0m     \u001b[0;32mif\u001b[0m \u001b[0mchunksize\u001b[0m \u001b[0;32mor\u001b[0m \u001b[0miterator\u001b[0m\u001b[0;34m:\u001b[0m\u001b[0;34m\u001b[0m\u001b[0;34m\u001b[0m\u001b[0m\n",
            "\u001b[0;32m/usr/local/lib/python3.6/dist-packages/pandas/io/parsers.py\u001b[0m in \u001b[0;36m__init__\u001b[0;34m(self, f, engine, **kwds)\u001b[0m\n\u001b[1;32m    944\u001b[0m             \u001b[0mself\u001b[0m\u001b[0;34m.\u001b[0m\u001b[0moptions\u001b[0m\u001b[0;34m[\u001b[0m\u001b[0;34m\"has_index_names\"\u001b[0m\u001b[0;34m]\u001b[0m \u001b[0;34m=\u001b[0m \u001b[0mkwds\u001b[0m\u001b[0;34m[\u001b[0m\u001b[0;34m\"has_index_names\"\u001b[0m\u001b[0;34m]\u001b[0m\u001b[0;34m\u001b[0m\u001b[0;34m\u001b[0m\u001b[0m\n\u001b[1;32m    945\u001b[0m \u001b[0;34m\u001b[0m\u001b[0m\n\u001b[0;32m--> 946\u001b[0;31m         \u001b[0mself\u001b[0m\u001b[0;34m.\u001b[0m\u001b[0m_make_engine\u001b[0m\u001b[0;34m(\u001b[0m\u001b[0mself\u001b[0m\u001b[0;34m.\u001b[0m\u001b[0mengine\u001b[0m\u001b[0;34m)\u001b[0m\u001b[0;34m\u001b[0m\u001b[0;34m\u001b[0m\u001b[0m\n\u001b[0m\u001b[1;32m    947\u001b[0m \u001b[0;34m\u001b[0m\u001b[0m\n\u001b[1;32m    948\u001b[0m     \u001b[0;32mdef\u001b[0m \u001b[0mclose\u001b[0m\u001b[0;34m(\u001b[0m\u001b[0mself\u001b[0m\u001b[0;34m)\u001b[0m\u001b[0;34m:\u001b[0m\u001b[0;34m\u001b[0m\u001b[0;34m\u001b[0m\u001b[0m\n",
            "\u001b[0;32m/usr/local/lib/python3.6/dist-packages/pandas/io/parsers.py\u001b[0m in \u001b[0;36m_make_engine\u001b[0;34m(self, engine)\u001b[0m\n\u001b[1;32m   1176\u001b[0m     \u001b[0;32mdef\u001b[0m \u001b[0m_make_engine\u001b[0m\u001b[0;34m(\u001b[0m\u001b[0mself\u001b[0m\u001b[0;34m,\u001b[0m \u001b[0mengine\u001b[0m\u001b[0;34m=\u001b[0m\u001b[0;34m\"c\"\u001b[0m\u001b[0;34m)\u001b[0m\u001b[0;34m:\u001b[0m\u001b[0;34m\u001b[0m\u001b[0;34m\u001b[0m\u001b[0m\n\u001b[1;32m   1177\u001b[0m         \u001b[0;32mif\u001b[0m \u001b[0mengine\u001b[0m \u001b[0;34m==\u001b[0m \u001b[0;34m\"c\"\u001b[0m\u001b[0;34m:\u001b[0m\u001b[0;34m\u001b[0m\u001b[0;34m\u001b[0m\u001b[0m\n\u001b[0;32m-> 1178\u001b[0;31m             \u001b[0mself\u001b[0m\u001b[0;34m.\u001b[0m\u001b[0m_engine\u001b[0m \u001b[0;34m=\u001b[0m \u001b[0mCParserWrapper\u001b[0m\u001b[0;34m(\u001b[0m\u001b[0mself\u001b[0m\u001b[0;34m.\u001b[0m\u001b[0mf\u001b[0m\u001b[0;34m,\u001b[0m \u001b[0;34m**\u001b[0m\u001b[0mself\u001b[0m\u001b[0;34m.\u001b[0m\u001b[0moptions\u001b[0m\u001b[0;34m)\u001b[0m\u001b[0;34m\u001b[0m\u001b[0;34m\u001b[0m\u001b[0m\n\u001b[0m\u001b[1;32m   1179\u001b[0m         \u001b[0;32melse\u001b[0m\u001b[0;34m:\u001b[0m\u001b[0;34m\u001b[0m\u001b[0;34m\u001b[0m\u001b[0m\n\u001b[1;32m   1180\u001b[0m             \u001b[0;32mif\u001b[0m \u001b[0mengine\u001b[0m \u001b[0;34m==\u001b[0m \u001b[0;34m\"python\"\u001b[0m\u001b[0;34m:\u001b[0m\u001b[0;34m\u001b[0m\u001b[0;34m\u001b[0m\u001b[0m\n",
            "\u001b[0;32m/usr/local/lib/python3.6/dist-packages/pandas/io/parsers.py\u001b[0m in \u001b[0;36m__init__\u001b[0;34m(self, src, **kwds)\u001b[0m\n\u001b[1;32m   2006\u001b[0m         \u001b[0mkwds\u001b[0m\u001b[0;34m[\u001b[0m\u001b[0;34m\"usecols\"\u001b[0m\u001b[0;34m]\u001b[0m \u001b[0;34m=\u001b[0m \u001b[0mself\u001b[0m\u001b[0;34m.\u001b[0m\u001b[0musecols\u001b[0m\u001b[0;34m\u001b[0m\u001b[0;34m\u001b[0m\u001b[0m\n\u001b[1;32m   2007\u001b[0m \u001b[0;34m\u001b[0m\u001b[0m\n\u001b[0;32m-> 2008\u001b[0;31m         \u001b[0mself\u001b[0m\u001b[0;34m.\u001b[0m\u001b[0m_reader\u001b[0m \u001b[0;34m=\u001b[0m \u001b[0mparsers\u001b[0m\u001b[0;34m.\u001b[0m\u001b[0mTextReader\u001b[0m\u001b[0;34m(\u001b[0m\u001b[0msrc\u001b[0m\u001b[0;34m,\u001b[0m \u001b[0;34m**\u001b[0m\u001b[0mkwds\u001b[0m\u001b[0;34m)\u001b[0m\u001b[0;34m\u001b[0m\u001b[0;34m\u001b[0m\u001b[0m\n\u001b[0m\u001b[1;32m   2009\u001b[0m         \u001b[0mself\u001b[0m\u001b[0;34m.\u001b[0m\u001b[0munnamed_cols\u001b[0m \u001b[0;34m=\u001b[0m \u001b[0mself\u001b[0m\u001b[0;34m.\u001b[0m\u001b[0m_reader\u001b[0m\u001b[0;34m.\u001b[0m\u001b[0munnamed_cols\u001b[0m\u001b[0;34m\u001b[0m\u001b[0;34m\u001b[0m\u001b[0m\n\u001b[1;32m   2010\u001b[0m \u001b[0;34m\u001b[0m\u001b[0m\n",
            "\u001b[0;32mpandas/_libs/parsers.pyx\u001b[0m in \u001b[0;36mpandas._libs.parsers.TextReader.__cinit__\u001b[0;34m()\u001b[0m\n",
            "\u001b[0;32mpandas/_libs/parsers.pyx\u001b[0m in \u001b[0;36mpandas._libs.parsers.TextReader._setup_parser_source\u001b[0;34m()\u001b[0m\n",
            "\u001b[0;31mFileNotFoundError\u001b[0m: [Errno 2] No such file or directory: '../input/home-data-for-ml-course/train.csv'"
          ]
        }
      ]
    },
    {
      "cell_type": "code",
      "metadata": {
        "id": "VXLrOZKir1a0",
        "colab": {
          "base_uri": "https://localhost:8080/",
          "height": 233
        },
        "outputId": "7627ae56-8459-4cd4-9f30-b5976b2e4159"
      },
      "source": [
        "from sklearn.ensemble import RandomForestRegressor\n",
        "\n",
        "# Define the model. Set random_state to 1\n",
        "rf_model = RandomForestRegressor()\n",
        "\n",
        "# fit your model\n",
        "rf_model.fit(train_X, train_y)\n",
        "\n",
        "\n",
        "# Calculate the mean absolute error of your Random Forest model on the validation data\n",
        "rf_val_predictions = rf_model.predict(val_X)\n",
        "rf_val_mae = mean_absolute_error(rf_val_predictions, val_y)\n",
        "\n",
        "print(\"Validation MAE for Random Forest Model: {}\".format(rf_val_mae))"
      ],
      "execution_count": null,
      "outputs": [
        {
          "output_type": "error",
          "ename": "NameError",
          "evalue": "ignored",
          "traceback": [
            "\u001b[0;31m---------------------------------------------------------------------------\u001b[0m",
            "\u001b[0;31mNameError\u001b[0m                                 Traceback (most recent call last)",
            "\u001b[0;32m<ipython-input-2-ba28adfe6a2c>\u001b[0m in \u001b[0;36m<module>\u001b[0;34m()\u001b[0m\n\u001b[1;32m      5\u001b[0m \u001b[0;34m\u001b[0m\u001b[0m\n\u001b[1;32m      6\u001b[0m \u001b[0;31m# fit your model\u001b[0m\u001b[0;34m\u001b[0m\u001b[0;34m\u001b[0m\u001b[0;34m\u001b[0m\u001b[0m\n\u001b[0;32m----> 7\u001b[0;31m \u001b[0mrf_model\u001b[0m\u001b[0;34m.\u001b[0m\u001b[0mfit\u001b[0m\u001b[0;34m(\u001b[0m\u001b[0mtrain_X\u001b[0m\u001b[0;34m,\u001b[0m \u001b[0mtrain_y\u001b[0m\u001b[0;34m)\u001b[0m\u001b[0;34m\u001b[0m\u001b[0;34m\u001b[0m\u001b[0m\n\u001b[0m\u001b[1;32m      8\u001b[0m \u001b[0;34m\u001b[0m\u001b[0m\n\u001b[1;32m      9\u001b[0m \u001b[0;34m\u001b[0m\u001b[0m\n",
            "\u001b[0;31mNameError\u001b[0m: name 'train_X' is not defined"
          ]
        }
      ]
    }
  ]
}