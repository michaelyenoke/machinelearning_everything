{
 "cells": [
  {
   "cell_type": "markdown",
   "metadata": {},
   "source": [
    "# 作業目標：運用課程所學，操作字串達到預期輸出"
   ]
  },
  {
   "cell_type": "markdown",
   "metadata": {},
   "source": [
    "---"
   ]
  },
  {
   "cell_type": "markdown",
   "metadata": {},
   "source": [
    "### isnumeric(), isdigit(), isdecimal() 各有幾個"
   ]
  },
  {
   "cell_type": "code",
   "execution_count": 1,
   "metadata": {},
   "outputs": [],
   "source": [
    "test_string = ['5.9', '30', '½', '³', '⑬']"
   ]
  },
  {
   "cell_type": "code",
   "execution_count": 2,
   "metadata": {},
   "outputs": [],
   "source": [
    "def spam_prac(s,x,y,z):\n",
    "    for attr in ['isnumeric', 'isdecimal', 'isdigit']:\n",
    "        if attr == 'isnumeric':\n",
    "            if getattr(s,attr)(): # 目前理解：假定getattr(s,attr)()返回 true 的條件才能進入if的條件中,在此為isnumeric為true\n",
    "                x+=1\n",
    "        elif attr == 'isdecimal':\n",
    "            if getattr(s,attr)():\n",
    "                y+=1\n",
    "        elif attr == 'isdigital':\n",
    "            if getattr(s,attr)():\n",
    "                z+=1\n",
    "    return x,y,z  #返回的值有三個"
   ]
  },
  {
   "cell_type": "code",
   "execution_count": 3,
   "metadata": {},
   "outputs": [],
   "source": [
    "isnumeric_count = 0\n",
    "isdigit_count = 0 \n",
    "isdecimal_count = 0"
   ]
  },
  {
   "cell_type": "code",
   "execution_count": 4,
   "metadata": {},
   "outputs": [],
   "source": [
    "for string_item in test_string:\n",
    "    #將三個返回值覆蓋\n",
    "    isnumeric_count,isdigit_count,isdecimal_count = spam_prac(string_item ,isnumeric_count,isdigit_count,isdecimal_count)"
   ]
  },
  {
   "cell_type": "code",
   "execution_count": 5,
   "metadata": {},
   "outputs": [
    {
     "name": "stdout",
     "output_type": "stream",
     "text": [
      "isnumeric_count: 4\n",
      "isdigit_count: 1\n",
      "isdecimal_count: 0\n"
     ]
    }
   ],
   "source": [
    "print('isnumeric_count: {}'.format(isnumeric_count))     \n",
    "print('isdigit_count: {}'.format(isdigit_count))     \n",
    "print('isdecimal_count: {}'.format(isdecimal_count))  "
   ]
  },
  {
   "cell_type": "markdown",
   "metadata": {},
   "source": [
    "---"
   ]
  },
  {
   "cell_type": "markdown",
   "metadata": {},
   "source": [
    "## 運用formatting 技巧 output\n",
    "    * Accuracy: 98.13%, Recall: 94.88%, Precision: 96.29%"
   ]
  },
  {
   "cell_type": "code",
   "execution_count": 9,
   "metadata": {},
   "outputs": [],
   "source": [
    "accuracy = 98.129393\n",
    "recall =   94.879583\n",
    "precision =96.294821"
   ]
  },
  {
   "cell_type": "code",
   "execution_count": 20,
   "metadata": {
    "scrolled": true
   },
   "outputs": [
    {
     "name": "stdout",
     "output_type": "stream",
     "text": [
      "Accuracy:98.13%,Recall:94.88%,Precision:96.29%\n"
     ]
    }
   ],
   "source": [
    "#只有{}裡面,才會受到後面.format()的匯入\n",
    "print('Accuracy:{:.2f}%,Recall:{:.2f}%,Precision:{:.2f}%'.format(accuracy,recall,precision))"
   ]
  },
  {
   "cell_type": "code",
   "execution_count": 22,
   "metadata": {},
   "outputs": [],
   "source": [
    "accuracy = 0.98129393\n",
    "recall =   0.94879583\n",
    "precision =0.96294821"
   ]
  },
  {
   "cell_type": "code",
   "execution_count": 28,
   "metadata": {},
   "outputs": [
    {
     "name": "stdout",
     "output_type": "stream",
     "text": [
      "Accuracy:98.13%,Recall:94.88%,Precision:96.29%\n"
     ]
    }
   ],
   "source": [
    "print('Accuracy:{:.2%},Recall:{:.2%},Precision:{:.2%}'.format(accuracy,recall,precision))"
   ]
  },
  {
   "cell_type": "markdown",
   "metadata": {},
   "source": [
    "---"
   ]
  },
  {
   "cell_type": "markdown",
   "metadata": {},
   "source": [
    "## 依照只是轉換number output format"
   ]
  },
  {
   "cell_type": "code",
   "execution_count": 29,
   "metadata": {},
   "outputs": [],
   "source": [
    "number = 3.1415926"
   ]
  },
  {
   "cell_type": "markdown",
   "metadata": {},
   "source": [
    "#### 轉換為科學符號表示法 (小數點後兩位)"
   ]
  },
  {
   "cell_type": "code",
   "execution_count": 32,
   "metadata": {},
   "outputs": [
    {
     "name": "stdout",
     "output_type": "stream",
     "text": [
      "3.141593e+00\n"
     ]
    }
   ],
   "source": [
    "print('%e' % (3.1415926))"
   ]
  },
  {
   "cell_type": "code",
   "execution_count": 33,
   "metadata": {},
   "outputs": [
    {
     "name": "stdout",
     "output_type": "stream",
     "text": [
      "3.14e+00\n"
     ]
    }
   ],
   "source": [
    "print('{:.2e}'.format(number))"
   ]
  },
  {
   "cell_type": "code",
   "execution_count": 53,
   "metadata": {},
   "outputs": [
    {
     "data": {
      "text/plain": [
       "'3.14e+00'"
      ]
     },
     "execution_count": 53,
     "metadata": {},
     "output_type": "execute_result"
    }
   ],
   "source": [
    "print('練習部分')"
   ]
  },
  {
   "cell_type": "markdown",
   "metadata": {},
   "source": [
    "#### 轉換為%"
   ]
  },
  {
   "cell_type": "code",
   "execution_count": 34,
   "metadata": {},
   "outputs": [
    {
     "name": "stdout",
     "output_type": "stream",
     "text": [
      "314.16%\n"
     ]
    }
   ],
   "source": [
    "print('{:.2%}'.format(number))"
   ]
  },
  {
   "cell_type": "code",
   "execution_count": 54,
   "metadata": {},
   "outputs": [
    {
     "data": {
      "text/plain": [
       "'314.16%'"
      ]
     },
     "execution_count": 54,
     "metadata": {},
     "output_type": "execute_result"
    }
   ],
   "source": [
    "print('練習部分')"
   ]
  },
  {
   "cell_type": "markdown",
   "metadata": {},
   "source": [
    "#### 補零成為3.14159300"
   ]
  },
  {
   "cell_type": "code",
   "execution_count": 43,
   "metadata": {},
   "outputs": [
    {
     "name": "stdout",
     "output_type": "stream",
     "text": [
      "3.14159000\n"
     ]
    }
   ],
   "source": [
    "# f-float/n-number/d-digital\n",
    "print('{:0<10n}'.format(number))"
   ]
  },
  {
   "cell_type": "code",
   "execution_count": 44,
   "metadata": {},
   "outputs": [
    {
     "name": "stdout",
     "output_type": "stream",
     "text": [
      "練習部分\n"
     ]
    }
   ],
   "source": [
    "print('練習部分')"
   ]
  }
 ],
 "metadata": {
  "kernelspec": {
   "display_name": "Python 3",
   "language": "python",
   "name": "python3"
  },
  "language_info": {
   "codemirror_mode": {
    "name": "ipython",
    "version": 3
   },
   "file_extension": ".py",
   "mimetype": "text/x-python",
   "name": "python",
   "nbconvert_exporter": "python",
   "pygments_lexer": "ipython3",
   "version": "3.7.6"
  }
 },
 "nbformat": 4,
 "nbformat_minor": 2
}
